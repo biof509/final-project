{
 "cells": [
  {
   "cell_type": "code",
   "execution_count": 3,
   "metadata": {},
   "outputs": [
    {
     "name": "stdout",
     "output_type": "stream",
     "text": [
      "Collecting package metadata (current_repodata.json): done\n",
      "Solving environment: / \n",
      "Warning: >10 possible package resolutions (only showing differing packages):\n",
      "  - anaconda/osx-64::ca-certificates-2020.1.1-0, anaconda/osx-64::certifi-2020.4.5.1-py37_0, anaconda/osx-64::conda-4.8.3-py37_0, anaconda/osx-64::openssl-1.1.1g-h1de35cc_0\n",
      "  - anaconda/osx-64::ca-certificates-2020.1.1-0, anaconda/osx-64::certifi-2020.4.5.1-py37_0, anaconda/osx-64::openssl-1.1.1g-h1de35cc_0, defaults/osx-64::conda-4.8.3-py37_0\n",
      "  - anaconda/osx-64::ca-certificates-2020.1.1-0, anaconda/osx-64::certifi-2020.4.5.1-py37_0, anaconda/osx-64::conda-4.8.3-py37_0, defaults/osx-64::openssl-1.1.1g-h1de35cc_0\n",
      "  - anaconda/osx-64::ca-certificates-2020.1.1-0, anaconda/osx-64::certifi-2020.4.5.1-py37_0, defaults/osx-64::conda-4.8.3-py37_0, defaults/osx-64::openssl-1.1.1g-h1de35cc_0\n",
      "  - anaconda/osx-64::certifi-2020.4.5.1-py37_0, anaconda/osx-64::conda-4.8.3-py37_0, defaults/osx-64::ca-certificates-2020.1.1-0, defaults/osx-64::openssl-1.1.1g-h1de35cc_0\n",
      "  - anaconda/osx-64::certifi-2020.4.5.1-py37_0, defaults/osx-64::ca-certificates-2020.1.1-0, defaults/osx-64::conda-4.8.3-py37_0, defaults/osx-64::openssl-1.1.1g-h1de35cc_0\n",
      "  - anaconda/osx-64::certifi-2020.4.5.1-py37_0, anaconda/osx-64::conda-4.8.3-py37_0, anaconda/osx-64::openssl-1.1.1g-h1de35cc_0, defaults/osx-64::ca-certificates-2020.1.1-0\n",
      "  - anaconda/osx-64::certifi-2020.4.5.1-py37_0, anaconda/osx-64::openssl-1.1.1g-h1de35cc_0, defaults/osx-64::ca-certificates-2020.1.1-0, defaults/osx-64::conda-4.8.3-py37_0\n",
      "  - anaconda/osx-64::conda-4.8.3-py37_0, anaconda/osx-64::openssl-1.1.1g-h1de35cc_0, defaults/osx-64::ca-certificates-2020.1.1-0, defaults/osx-64::certifi-2020.4.5.1-py37_0\n",
      "  - anaconda/osx-64::ca-certificates-2020.1.1-0, anaconda/osx-64::conda-4.8.3-py37_0, anaconda/osx-64::openssl-1.1.1g-h1de35cc_0, defaults/osx-64::certifi-2020.4.5.1-py37_0\n",
      "  ... and othedone\n",
      "\n",
      "# All requested packages already installed.\n",
      "\n",
      "\n",
      "Note: you may need to restart the kernel to use updated packages.\n"
     ]
    }
   ],
   "source": [
    "%conda install -c bioconda emboss\n"
   ]
  },
  {
   "cell_type": "code",
   "execution_count": 4,
   "metadata": {},
   "outputs": [
    {
     "name": "stdout",
     "output_type": "stream",
     "text": [
      "Collecting package metadata (current_repodata.json): done\n",
      "Solving environment: done\n",
      "\n",
      "# All requested packages already installed.\n",
      "\n",
      "\n",
      "Note: you may need to restart the kernel to use updated packages.\n"
     ]
    }
   ],
   "source": [
    "%conda install -c anaconda wget"
   ]
  },
  {
   "cell_type": "code",
   "execution_count": 21,
   "metadata": {},
   "outputs": [
    {
     "name": "stdout",
     "output_type": "stream",
     "text": [
      "Collecting package metadata (current_repodata.json): done\n",
      "Solving environment: done\n",
      "\n",
      "## Package Plan ##\n",
      "\n",
      "  environment location: /Users/smithded/opt/anaconda3\n",
      "\n",
      "  added / updated specs:\n",
      "    - biopython\n",
      "\n",
      "\n",
      "The following packages will be downloaded:\n",
      "\n",
      "    package                    |            build\n",
      "    ---------------------------|-----------------\n",
      "    biopython-1.76             |   py37h1de35cc_0         2.6 MB  anaconda\n",
      "    ------------------------------------------------------------\n",
      "                                           Total:         2.6 MB\n",
      "\n",
      "The following NEW packages will be INSTALLED:\n",
      "\n",
      "  biopython          anaconda/osx-64::biopython-1.76-py37h1de35cc_0\n",
      "\n",
      "\n",
      "\n",
      "Downloading and Extracting Packages\n",
      "biopython-1.76       | 2.6 MB    | ##################################### | 100% \n",
      "Preparing transaction: done\n",
      "Verifying transaction: done\n",
      "Executing transaction: done\n",
      "\n",
      "Note: you may need to restart the kernel to use updated packages.\n"
     ]
    }
   ],
   "source": [
    "%conda install -c anaconda biopython"
   ]
  },
  {
   "cell_type": "markdown",
   "metadata": {},
   "source": [
    "Assembly summary located at ftp://ftp.ncbi.nlm.nih.gov/genomes/refseq/bacteria/assembly_summary.txt.\n",
    "\n",
    "Elements of strategy for acquiring and parsing data and generating kmer frequences were influenced by code from www.github.com/smaelgol/PlasFlow - https://www.ncbi.nlm.nih.gov/pubmed/29346586 and www.gitlab.com/sirarredondo/analysis_mlplasmids - https://www.ncbi.nlm.nih.gov/pubmed/30383524.\n"
   ]
  },
  {
   "cell_type": "code",
   "execution_count": 27,
   "metadata": {},
   "outputs": [],
   "source": [
    "!cat Data/assembly_summary.txt | grep \"Bacteroides\" | grep \"Complete\" > Data/Bacteroides.txt \n"
   ]
  },
  {
   "cell_type": "code",
   "execution_count": 28,
   "metadata": {},
   "outputs": [],
   "source": [
    "!cat Data/assembly_summary.txt | grep \"Parabacteroides\" | grep \"Complete\" > Data/Parabacteroides.txt \n"
   ]
  },
  {
   "cell_type": "code",
   "execution_count": 29,
   "metadata": {},
   "outputs": [],
   "source": [
    "!cat Data/Bacteroides.txt Data/Parabacteroides.txt > Data/Genomes.txt "
   ]
  },
  {
   "cell_type": "code",
   "execution_count": 32,
   "metadata": {},
   "outputs": [],
   "source": [
    "!cat Data/Genomes.txt | cut -f20 > Data/DownloadRefSeq.txt"
   ]
  },
  {
   "cell_type": "code",
   "execution_count": 43,
   "metadata": {},
   "outputs": [],
   "source": [
    "!mkdir Data/Downloads"
   ]
  },
  {
   "cell_type": "code",
   "execution_count": 4,
   "metadata": {},
   "outputs": [],
   "source": [
    "  #in shell  - for next in $(cat Data/DownloadRefSeq.txt); do wget -v -a log.txt -P Data/Downloads/ -nc \"$next\"/*[0-9]_genomic.fna.gz; done"
   ]
  },
  {
   "cell_type": "code",
   "execution_count": 185,
   "metadata": {},
   "outputs": [
    {
     "name": "stdout",
     "output_type": "stream",
     "text": [
      "AP022661.1_plasmid.fna        NZ_ATFI01000025.1_plasmid.fna\r\n",
      "AP022662.1_plasmid.fna        NZ_CM004507.1_plasmid.fna\r\n",
      "AP022663.1_plasmid.fna        NZ_CM004522.1_plasmid.fna\r\n",
      "AP022664.1_plasmid.fna        NZ_CM004523.1 _plasmid.fna\r\n",
      "CP050955.1_plasmid.fna        NZ_CM018319.1_plasmid.fna\r\n",
      "NZ_ATFI01000024.1_plasmid.fna\r\n"
     ]
    }
   ],
   "source": [
    "# Manually downloaded Parabacteroides/Bacteroides plasmids not included in complete assemblies as per their respective NCBI Genomes pages (2020-05-04 DL date)\n",
    "!ls Data/Downloads/Manualplasmids/\n"
   ]
  },
  {
   "cell_type": "code",
   "execution_count": 177,
   "metadata": {},
   "outputs": [],
   "source": [
    "!gunzip Data/Downloads/*.gz"
   ]
  },
  {
   "cell_type": "code",
   "execution_count": 190,
   "metadata": {},
   "outputs": [],
   "source": [
    "!for i in Data/Downloads/*.fna; do python Scripts/PlasmidorContig.py $i; done"
   ]
  },
  {
   "cell_type": "code",
   "execution_count": 191,
   "metadata": {},
   "outputs": [],
   "source": [
    "!for i in Data/Downloads/Manualplasmids/*.fna; do python Scripts/PlasmidorContig.py $i; done\n",
    "# moved all .fasta output files to /Data/Sequences"
   ]
  },
  {
   "cell_type": "code",
   "execution_count": null,
   "metadata": {},
   "outputs": [],
   "source": [
    "### Will not execute via sh in Jupyter, to be run in local shell in appropriate folder and output to be moved to Split dirs below\n",
    "#for i in *.fasta; do splitter -sequence $i -outseq Split500kb-$i -size 500000; done\n",
    "cat Split* > Data/500kbcombined.fasta\n",
    "#add in _ to for splitting first 2 chars, remove white space after\n",
    "#AP022661.1 AP022662.1 AP022663.1 AP022664.1 CP050955.1"
   ]
  },
  {
   "cell_type": "code",
   "execution_count": 199,
   "metadata": {},
   "outputs": [],
   "source": [
    "#!/usr/bin/python\n",
    "from Bio import SeqIO\n",
    "import pandas as pd\n",
    "rows = []\n",
    "fh = open(\"Data/500kbcombined.fasta\", \"r\")\n",
    "for seq_record in SeqIO.parse(fh, \"fasta\"):\n",
    "    Desc = seq_record.description.split(\"_\")\n",
    "    Acc1 = str(Desc[0:1])[2:-2]\n",
    "    Acc2 = str(Desc[1:2])[2:-2]\n",
    "    Access = Acc1 + \"_\"+ Acc2\n",
    "    Type = str(Desc[2:3])[2:-2]\n",
    "    Seg = str(Desc[3:4])[2:-2]\n",
    "    rows.append([Access,Type,Seg,str(seq_record.seq)])\n",
    "df = pd.DataFrame(rows, columns=['Accession','Type','Range','Sequence'])\n",
    "\n",
    "fh.close()"
   ]
  },
  {
   "cell_type": "code",
   "execution_count": 200,
   "metadata": {
    "scrolled": true
   },
   "outputs": [
    {
     "data": {
      "text/html": [
       "<div>\n",
       "<style scoped>\n",
       "    .dataframe tbody tr th:only-of-type {\n",
       "        vertical-align: middle;\n",
       "    }\n",
       "\n",
       "    .dataframe tbody tr th {\n",
       "        vertical-align: top;\n",
       "    }\n",
       "\n",
       "    .dataframe thead th {\n",
       "        text-align: right;\n",
       "    }\n",
       "</style>\n",
       "<table border=\"1\" class=\"dataframe\">\n",
       "  <thead>\n",
       "    <tr style=\"text-align: right;\">\n",
       "      <th></th>\n",
       "      <th>Accession</th>\n",
       "      <th>Type</th>\n",
       "      <th>Range</th>\n",
       "      <th>Sequence</th>\n",
       "    </tr>\n",
       "  </thead>\n",
       "  <tbody>\n",
       "    <tr>\n",
       "      <th>0</th>\n",
       "      <td>AP_022661.1</td>\n",
       "      <td>plasmid</td>\n",
       "      <td>1-43945</td>\n",
       "      <td>TTTCATTAATCGACCCTTTTTCTGTACTTTTGATTTATAATAGTAC...</td>\n",
       "    </tr>\n",
       "    <tr>\n",
       "      <th>1</th>\n",
       "      <td>AP_022662.1</td>\n",
       "      <td>plasmid</td>\n",
       "      <td>1-8170</td>\n",
       "      <td>AGTTCATCAAGCAGCTTCTCCAGCTTCCTGAAAAGCTGCGGAGAGG...</td>\n",
       "    </tr>\n",
       "    <tr>\n",
       "      <th>2</th>\n",
       "      <td>AP_022663.1</td>\n",
       "      <td>plasmid</td>\n",
       "      <td>1-4316</td>\n",
       "      <td>ATGATGAAAACGAAACAACAGAAGAACAACAGTGTAACAGTCGTCA...</td>\n",
       "    </tr>\n",
       "    <tr>\n",
       "      <th>3</th>\n",
       "      <td>AP_022664.1</td>\n",
       "      <td>plasmid</td>\n",
       "      <td>1-2783</td>\n",
       "      <td>AGTTCATCAAAACCAAGTGATAACTGTCGTTTCTCTGCTTCTTCTT...</td>\n",
       "    </tr>\n",
       "    <tr>\n",
       "      <th>4</th>\n",
       "      <td>CP_050955.1</td>\n",
       "      <td>plasmid</td>\n",
       "      <td>1-2786</td>\n",
       "      <td>AGTATTATAGACAGCAAATGGACAATGCAAGGACAACCAGTAACCG...</td>\n",
       "    </tr>\n",
       "  </tbody>\n",
       "</table>\n",
       "</div>"
      ],
      "text/plain": [
       "     Accession     Type    Range  \\\n",
       "0  AP_022661.1  plasmid  1-43945   \n",
       "1  AP_022662.1  plasmid   1-8170   \n",
       "2  AP_022663.1  plasmid   1-4316   \n",
       "3  AP_022664.1  plasmid   1-2783   \n",
       "4  CP_050955.1  plasmid   1-2786   \n",
       "\n",
       "                                            Sequence  \n",
       "0  TTTCATTAATCGACCCTTTTTCTGTACTTTTGATTTATAATAGTAC...  \n",
       "1  AGTTCATCAAGCAGCTTCTCCAGCTTCCTGAAAAGCTGCGGAGAGG...  \n",
       "2  ATGATGAAAACGAAACAACAGAAGAACAACAGTGTAACAGTCGTCA...  \n",
       "3  AGTTCATCAAAACCAAGTGATAACTGTCGTTTCTCTGCTTCTTCTT...  \n",
       "4  AGTATTATAGACAGCAAATGGACAATGCAAGGACAACCAGTAACCG...  "
      ]
     },
     "execution_count": 200,
     "metadata": {},
     "output_type": "execute_result"
    }
   ],
   "source": [
    "df.head()"
   ]
  },
  {
   "cell_type": "code",
   "execution_count": 206,
   "metadata": {},
   "outputs": [],
   "source": [
    "#!/usr/bin/python\n",
    "from Bio import SeqIO\n",
    "import pandas as pd\n",
    "rows = []\n",
    "fh = open(\"Data/Sequences/Allseqs.fasta\", \"r\")\n",
    "for seq_record in SeqIO.parse(fh, \"fasta\"):\n",
    "    Desc = seq_record.description.split(\"_\")\n",
    "    Acc1 = str(Desc[0:1])[2:-2]\n",
    "    Acc2 = str(Desc[1:2])[2:-2]\n",
    "    Access = Acc1 + \"_\"+ Acc2\n",
    "    Type = str(Desc[2:3])[2:-2]\n",
    "    rows.append([Access,Type,str(seq_record.seq)])\n",
    "df = pd.DataFrame(rows, columns=['Accession','Type','Sequence'])\n",
    "\n",
    "fh.close()"
   ]
  },
  {
   "cell_type": "code",
   "execution_count": 207,
   "metadata": {},
   "outputs": [],
   "source": [
    "df.to_csv('Data/Rwork/Allseqs.csv', index=False)"
   ]
  },
  {
   "cell_type": "code",
   "execution_count": 201,
   "metadata": {},
   "outputs": [],
   "source": [
    "df.to_csv('Data/Rwork/Split500kb.csv', index=False)"
   ]
  },
  {
   "cell_type": "code",
   "execution_count": null,
   "metadata": {},
   "outputs": [],
   "source": [
    "\"\"\"R code: `Split500kb` <- read.csv(\"~/Documents/GitHub/ddnsmith/final-project/Data/Rwork/5000bpforR.csv\")\n",
    "Acc <- `Split500kb`[[\"Accession\"]]\n",
    "Type <- `Split500kb`[[\"Type\"]]\n",
    "seqs <- `Split500kb`[[\"Sequence\"]]\n",
    "library(\"BiocManager\", lib.loc=\"~/Library/R/3.5/library\")\n",
    "library(\"Biostrings\", lib.loc=\"~/Library/R/3.5/library\")\n",
    "sequences <- DNAStringSet(seqs)\n",
    "kmer5 <- oligonucleotideFrequency(sequences, width=5,as.prob=TRUE)\n",
    "kmer5df <-as.data.frame(kmer5)\n",
    "dffinal <- data.frame(Acc,Type,kmer5df)\n",
    "#code is the same for Allseqs and 9 mer output generated by changing width value to 9"
   ]
  }
 ],
 "metadata": {
  "kernelspec": {
   "display_name": "Python 3",
   "language": "python",
   "name": "python3"
  },
  "language_info": {
   "codemirror_mode": {
    "name": "ipython",
    "version": 3
   },
   "file_extension": ".py",
   "mimetype": "text/x-python",
   "name": "python",
   "nbconvert_exporter": "python",
   "pygments_lexer": "ipython3",
   "version": "3.7.4"
  }
 },
 "nbformat": 4,
 "nbformat_minor": 4
}
