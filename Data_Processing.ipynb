{
 "cells": [
  {
   "cell_type": "markdown",
   "metadata": {},
   "source": [
    "### Get the materials"
   ]
  },
  {
   "cell_type": "code",
   "execution_count": 13,
   "metadata": {},
   "outputs": [],
   "source": [
    "# Requires the latest pip\n",
    "# !pip3 install --user --upgrade pip\n",
    "\n",
    "# Current stable release for CPU and GPU\n",
    "# !pip3 install --user tensorflow\n",
    "# !pip3 install --user keras\n",
    "\n",
    "# conda install -c conda-forge keras tensorflow\n",
    "# conda update -n base -c defaults conda"
   ]
  },
  {
   "cell_type": "code",
   "execution_count": 5,
   "metadata": {},
   "outputs": [],
   "source": [
    "# unzip file with all images and labels\n",
    "# filename = 'cifar-10-python.tar.gz'\n",
    "# tar = tarfile.open(filename, 'r:gz')\n",
    "# tar.extractall()\n",
    "# tar.close()"
   ]
  },
  {
   "cell_type": "code",
   "execution_count": 3,
   "metadata": {},
   "outputs": [],
   "source": [
    "projectpath = r'C:\\Users\\Sophie\\sophie-robert\\final-project'"
   ]
  },
  {
   "cell_type": "code",
   "execution_count": 4,
   "metadata": {},
   "outputs": [],
   "source": [
    "import numpy as np\n",
    "import matplotlib.pyplot as plt\n",
    "import tarfile\n",
    "import os\n",
    "import pickle"
   ]
  },
  {
   "cell_type": "code",
   "execution_count": 6,
   "metadata": {},
   "outputs": [],
   "source": [
    "# define a function to unpack the data into a dictionary\n",
    "def unpickle(file):\n",
    "    with open(file, 'rb') as fo:\n",
    "        dict = pickle.load(fo, encoding = 'bytes')\n",
    "    return dict"
   ]
  },
  {
   "cell_type": "code",
   "execution_count": 118,
   "metadata": {},
   "outputs": [],
   "source": [
    "# one hot encode the labels (could have just used keras.utils to_categorical)\n",
    "def one_hot_encode(train_labels):\n",
    "    encoded = np.zeros((n_imgs, len(np.unique(train_labels))))\n",
    "    for idx,lbl in enumerate(train_labels,0):\n",
    "        encoded[idx][lbl] = 1\n",
    "    return encoded"
   ]
  },
  {
   "cell_type": "code",
   "execution_count": 132,
   "metadata": {},
   "outputs": [],
   "source": [
    "# data comes in vectors so reshape then normalize\n",
    "def reshape_data(batchdata):\n",
    "    n_channels = 3\n",
    "    n_imgs     = batchdata.shape[0]\n",
    "    img_dim    = int(np.sqrt(batchdata.shape[1]/n_channels))\n",
    "    train_data = batchdata.reshape((n_imgs, n_channels, img_dim, img_dim)).transpose(0, 2, 3, 1)\n",
    "    train_data = (train_data / 255) - 0.5\n",
    "    return train_data, img_dim"
   ]
  },
  {
   "cell_type": "code",
   "execution_count": 278,
   "metadata": {},
   "outputs": [],
   "source": [
    "# unpack the data from the batches, do a bunch of stuff, then combine them\n",
    "batchpath  = os.path.join(projectpath, 'cifar-10-batches-py')\n",
    "\n",
    "for set in range(1,6):\n",
    "    if set == 1:\n",
    "        dirname      = os.path.join(batchpath, 'data_batch_' + str(set))\n",
    "        batch        = unpickle(dirname)\n",
    "        train_data   = reshape_data(batch[b'data'])        \n",
    "        train_labels = one_hot_encode(batch[b'labels'])\n",
    "    else:\n",
    "        dirname       = os.path.join(batchpath, 'data_batch_' + str(set))\n",
    "        batch         = unpickle(dirname)\n",
    "        train_data2   = reshape_data(batch[b'data'])\n",
    "        train_labels2 = one_hot_encode(batch[b'labels'])\n",
    "        train_data    = np.concatenate((train_data, train_data2))\n",
    "        train_labels  = np.concatenate((train_labels, train_labels2))"
   ]
  },
  {
   "cell_type": "code",
   "execution_count": 289,
   "metadata": {},
   "outputs": [],
   "source": [
    "# unpack the data from the batches, do a bunch of stuff, then combine them\n",
    "batchpath   = os.path.join(projectpath, 'cifar-10-batches-py')\n",
    "dirname     = os.path.join(batchpath, 'test_batch')\n",
    "testbatch   = unpickle(dirname)\n",
    "test_data   = reshape_data(testbatch[b'data'])        \n",
    "test_labels = one_hot_encode(testbatch[b'labels'])"
   ]
  },
  {
   "cell_type": "code",
   "execution_count": 290,
   "metadata": {},
   "outputs": [
    {
     "data": {
      "text/plain": [
       "(10000, 10)"
      ]
     },
     "execution_count": 290,
     "metadata": {},
     "output_type": "execute_result"
    }
   ],
   "source": [
    "test_labels.shape"
   ]
  },
  {
   "cell_type": "markdown",
   "metadata": {},
   "source": [
    "### Figure out what is in the batch"
   ]
  },
  {
   "cell_type": "code",
   "execution_count": 114,
   "metadata": {},
   "outputs": [
    {
     "data": {
      "text/plain": [
       "[b'batch_label', b'labels', b'data', b'filenames']"
      ]
     },
     "execution_count": 114,
     "metadata": {},
     "output_type": "execute_result"
    }
   ],
   "source": [
    "# what are the key types\n",
    "list(batch.keys())"
   ]
  },
  {
   "cell_type": "code",
   "execution_count": 121,
   "metadata": {},
   "outputs": [
    {
     "data": {
      "text/plain": [
       "10000"
      ]
     },
     "execution_count": 121,
     "metadata": {},
     "output_type": "execute_result"
    }
   ],
   "source": [
    "len(batch[b'labels'])"
   ]
  },
  {
   "cell_type": "code",
   "execution_count": 103,
   "metadata": {},
   "outputs": [
    {
     "data": {
      "text/plain": [
       "(10000, 3072)"
      ]
     },
     "execution_count": 103,
     "metadata": {},
     "output_type": "execute_result"
    }
   ],
   "source": [
    "# rows = images, columns = pixels in an image\n",
    "batch[b'data'].shape "
   ]
  },
  {
   "cell_type": "code",
   "execution_count": 229,
   "metadata": {},
   "outputs": [],
   "source": [
    "# back calculating the shape of the image\n",
    "n_channels = 3\n",
    "n_imgs = batch[b'data'].shape[0]\n",
    "img_dim = int(np.sqrt(batch[b'data'].shape[1]/n_channels))\n",
    "\n",
    "train_data = batch[b'data'].reshape((n_imgs, n_channels, img_dim, img_dim)).transpose(0, 2, 3, 1)"
   ]
  },
  {
   "cell_type": "code",
   "execution_count": 274,
   "metadata": {},
   "outputs": [],
   "source": [
    "# normalize the images\n",
    "train_data = (train_data / 255) - 0.5"
   ]
  },
  {
   "cell_type": "markdown",
   "metadata": {},
   "source": [
    "### Build the network"
   ]
  },
  {
   "cell_type": "code",
   "execution_count": 296,
   "metadata": {},
   "outputs": [],
   "source": [
    "import tensorflow as tf\n",
    "import matplotlib.pyplot as plt\n",
    "from keras.models import Sequential\n",
    "from keras.layers import Dense, Conv2D, Flatten, Dropout, MaxPool2D, BatchNormalization\n",
    "from keras.callbacks import EarlyStopping, ModelCheckpoint"
   ]
  },
  {
   "cell_type": "code",
   "execution_count": null,
   "metadata": {},
   "outputs": [
    {
     "name": "stdout",
     "output_type": "stream",
     "text": [
      "Train on 40000 samples, validate on 10000 samples\n",
      "Epoch 1/100\n",
      "40000/40000 [==============================] - 84s 2ms/step - loss: 1.6033 - accuracy: 0.4168 - val_loss: 1.9924 - val_accuracy: 0.2332\n",
      "Epoch 2/100\n",
      "40000/40000 [==============================] - 81s 2ms/step - loss: 1.2026 - accuracy: 0.5648 - val_loss: 1.2889 - val_accuracy: 0.5311\n",
      "Epoch 3/100\n",
      "40000/40000 [==============================] - 81s 2ms/step - loss: 1.0522 - accuracy: 0.6246 - val_loss: 1.0380 - val_accuracy: 0.6287\n",
      "Epoch 4/100\n",
      "40000/40000 [==============================] - 82s 2ms/step - loss: 0.9589 - accuracy: 0.6592 - val_loss: 0.9362 - val_accuracy: 0.6673\n",
      "Epoch 5/100\n",
      "40000/40000 [==============================] - 82s 2ms/step - loss: 0.8852 - accuracy: 0.6836 - val_loss: 0.9301 - val_accuracy: 0.6747\n",
      "Epoch 6/100\n",
      "40000/40000 [==============================] - 81s 2ms/step - loss: 0.8363 - accuracy: 0.7013 - val_loss: 0.8613 - val_accuracy: 0.6974\n",
      "Epoch 7/100\n",
      "40000/40000 [==============================] - 81s 2ms/step - loss: 0.7932 - accuracy: 0.7191 - val_loss: 0.7862 - val_accuracy: 0.7250\n",
      "Epoch 8/100\n",
      "40000/40000 [==============================] - 82s 2ms/step - loss: 0.7461 - accuracy: 0.7346 - val_loss: 0.8395 - val_accuracy: 0.7144\n",
      "Epoch 9/100\n",
      "40000/40000 [==============================] - 82s 2ms/step - loss: 0.7111 - accuracy: 0.7491 - val_loss: 0.7889 - val_accuracy: 0.7292\n",
      "Epoch 10/100\n",
      "40000/40000 [==============================] - 89s 2ms/step - loss: 0.6930 - accuracy: 0.7555 - val_loss: 0.7502 - val_accuracy: 0.7357\n",
      "Epoch 11/100\n",
      "40000/40000 [==============================] - 85s 2ms/step - loss: 0.6716 - accuracy: 0.7632 - val_loss: 0.7098 - val_accuracy: 0.7508\n",
      "Epoch 12/100\n",
      "40000/40000 [==============================] - 99s 2ms/step - loss: 0.6487 - accuracy: 0.7703 - val_loss: 0.7785 - val_accuracy: 0.7365\n",
      "Epoch 13/100\n",
      "16875/40000 [===========>..................] - ETA: 56s - loss: 0.6157 - accuracy: 0.7808"
     ]
    }
   ],
   "source": [
    "model = Sequential()\n",
    "model.add(Conv2D(32, \n",
    "                 kernel_size = 3, \n",
    "                 activation  = 'relu', \n",
    "                 padding     = 'same', \n",
    "                 input_shape = (img_dim,\n",
    "                                img_dim,\n",
    "                                3)))\n",
    "model.add(MaxPool2D(2))\n",
    "model.add(Dropout(0.25))\n",
    "model.add(Conv2D(32,\n",
    "                 kernel_size = 5, \n",
    "                 activation  = 'relu',\n",
    "                 padding     = 'same'))\n",
    "model.add(MaxPool2D(2))\n",
    "model.add(Dropout(0.2))\n",
    "model.add(Conv2D(64,\n",
    "                 kernel_size = 3, \n",
    "                 activation  = 'relu'))\n",
    "model.add(BatchNormalization())\n",
    "model.add(Conv2D(64, \n",
    "                 kernel_size = 3, \n",
    "                 activation  = 'relu'))\n",
    "model.add(MaxPool2D(2))\n",
    "model.add(Flatten())\n",
    "model.add(Dense  (64,  activation='relu'))\n",
    "model.add(Dense  (128, activation='relu'))\n",
    "model.add(BatchNormalization())\n",
    "model.add(Dense  (64,  activation='relu'))\n",
    "model.add(Dense  (10,  activation='softmax'))\n",
    "\n",
    "early_stopping_monitor = EarlyStopping(patience = 15,\n",
    "                                       restore_best_weights = True)\n",
    "\n",
    "model.compile(optimizer = 'adam', \n",
    "              loss      = 'categorical_crossentropy', \n",
    "              metrics   = ['accuracy'])\n",
    "\n",
    "training = model.fit(train_data, \n",
    "                     train_labels, \n",
    "                     validation_split = 0.2, \n",
    "                     epochs = 100, \n",
    "                     batch_size = 125,\n",
    "                     callbacks = [early_stopping_monitor])\n",
    "\n",
    "plt.plot(training.history['loss'])\n",
    "plt.plot(training.history['val_loss'])\n",
    "plt.show()"
   ]
  },
  {
   "cell_type": "code",
   "execution_count": 301,
   "metadata": {},
   "outputs": [],
   "source": [
    "model.save('model_saved7.h5')"
   ]
  },
  {
   "cell_type": "code",
   "execution_count": 144,
   "metadata": {},
   "outputs": [
    {
     "data": {
      "text/plain": [
       "(3, 3, 3, 16)"
      ]
     },
     "execution_count": 144,
     "metadata": {},
     "output_type": "execute_result"
    }
   ],
   "source": [
    "conv1 = model.layers[0]\n",
    "weights1 = conv1.get_weights()\n",
    "kernels1 = weights1[0]\n",
    "kernels1.shape"
   ]
  },
  {
   "cell_type": "code",
   "execution_count": 172,
   "metadata": {},
   "outputs": [
    {
     "data": {
      "image/png": "[encoded data removed]",
      "text/plain": [
       "<Figure size 432x288 with 1 Axes>"
      ]
     },
     "metadata": {
      "needs_background": "light"
     },
     "output_type": "display_data"
    }
   ],
   "source": [
    "kernels1_1 = kernels1[:,:,:,0]\n",
    "kernels1_1\n",
    "kernels1_1avg = np.mean(kernels1_1, axis=0)\n",
    "\n",
    "plt.imshow(kernels1_1avg);\n",
    "plt.axis('off')"
   ]
  },
  {
   "cell_type": "code",
   "execution_count": 195,
   "metadata": {},
   "outputs": [],
   "source": [
    "def convolution(kernel, image):\n",
    "    img_dim     = image.shape[0]\n",
    "    channels    = image.shape[2]\n",
    "    kernel_size = kernel.shape[0]\n",
    "    output_size = img_dim-(kernel_size-1)\n",
    "    conv        = np.zeros((output_size,output_size))\n",
    "    \n",
    "    for ii in range(output_size):\n",
    "        for jj in range(output_size):\n",
    "            window = image[ii:ii+kernel_size, jj:jj+kernel_size]\n",
    "            conv[ii,jj] = np.sum(window*kernel)\n",
    "            \n",
    "    return conv"
   ]
  },
  {
   "cell_type": "code",
   "execution_count": 273,
   "metadata": {},
   "outputs": [
    {
     "data": {
      "image/png": "[encoded data removed]",
      "text/plain": [
       "<Figure size 576x576 with 2 Axes>"
      ]
     },
     "metadata": {
      "needs_background": "light"
     },
     "output_type": "display_data"
    }
   ],
   "source": [
    "image = train_data[25,:,:,:]\n",
    "conv = convolution(kernels1_1, image)\n",
    "\n",
    "fig, axs = plt.subplots(1, 2, figsize=(8, 8))\n",
    "axs[0].set_title('Original Image')\n",
    "axs[0].imshow(image);\n",
    "axs[0].axis('off')\n",
    "\n",
    "axs[1].set_title('Convolution Output')\n",
    "axs[1].imshow(conv);\n",
    "axs[1].axis('off')\n",
    "plt.show()"
   ]
  },
  {
   "cell_type": "code",
   "execution_count": 295,
   "metadata": {},
   "outputs": [
    {
     "name": "stdout",
     "output_type": "stream",
     "text": [
      "Model: \"sequential_25\"\n",
      "_________________________________________________________________\n",
      "Layer (type)                 Output Shape              Param #   \n",
      "=================================================================\n",
      "conv2d_63 (Conv2D)           (None, 32, 32, 32)        896       \n",
      "_________________________________________________________________\n",
      "max_pooling2d_63 (MaxPooling (None, 16, 16, 32)        0         \n",
      "_________________________________________________________________\n",
      "dropout_62 (Dropout)         (None, 16, 16, 32)        0         \n",
      "_________________________________________________________________\n",
      "conv2d_64 (Conv2D)           (None, 16, 16, 32)        25632     \n",
      "_________________________________________________________________\n",
      "max_pooling2d_64 (MaxPooling (None, 8, 8, 32)          0         \n",
      "_________________________________________________________________\n",
      "dropout_63 (Dropout)         (None, 8, 8, 32)          0         \n",
      "_________________________________________________________________\n",
      "conv2d_65 (Conv2D)           (None, 6, 6, 64)          18496     \n",
      "_________________________________________________________________\n",
      "max_pooling2d_65 (MaxPooling (None, 2, 2, 64)          0         \n",
      "_________________________________________________________________\n",
      "flatten_24 (Flatten)         (None, 256)               0         \n",
      "_________________________________________________________________\n",
      "dense_84 (Dense)             (None, 64)                16448     \n",
      "_________________________________________________________________\n",
      "dense_85 (Dense)             (None, 128)               8320      \n",
      "_________________________________________________________________\n",
      "dropout_64 (Dropout)         (None, 128)               0         \n",
      "_________________________________________________________________\n",
      "dense_86 (Dense)             (None, 64)                8256      \n",
      "_________________________________________________________________\n",
      "dense_87 (Dense)             (None, 10)                650       \n",
      "=================================================================\n",
      "Total params: 78,698\n",
      "Trainable params: 78,698\n",
      "Non-trainable params: 0\n",
      "_________________________________________________________________\n"
     ]
    }
   ],
   "source": [
    "model.summary()"
   ]
  },
  {
   "cell_type": "code",
   "execution_count": null,
   "metadata": {},
   "outputs": [],
   "source": [
    "early_stopping_monitor = EarlyStopping(patience = 15)\n",
    "\n",
    "score = model.evaluate(test_data, \n",
    "                       test_labels,\n",
    "                       callbacks = [early_stopping_monitor], \n",
    "                       batch_size = 125)\n",
    "\n",
    "print('Test loss:', score[0])\n",
    "print('Test accuracy:', score[1])"
   ]
  }
 ],
 "metadata": {
  "kernelspec": {
   "display_name": "Python 3",
   "language": "python",
   "name": "python3"
  },
  "language_info": {
   "codemirror_mode": {
    "name": "ipython",
    "version": 3
   },
   "file_extension": ".py",
   "mimetype": "text/x-python",
   "name": "python",
   "nbconvert_exporter": "python",
   "pygments_lexer": "ipython3",
   "version": "3.7.6"
  }
 },
 "nbformat": 4,
 "nbformat_minor": 4
}
