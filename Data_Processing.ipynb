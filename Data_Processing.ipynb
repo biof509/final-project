{
 "cells": [
  {
   "cell_type": "markdown",
   "metadata": {},
   "source": [
    "### Get the materials"
   ]
  },
  {
   "cell_type": "code",
   "execution_count": 326,
   "metadata": {},
   "outputs": [
    {
     "name": "stdout",
     "output_type": "stream",
     "text": [
      "Collecting jupyterthemes\n",
      "  Downloading jupyterthemes-0.20.0-py2.py3-none-any.whl (7.0 MB)\n",
      "Requirement already satisfied: matplotlib>=1.4.3 in c:\\users\\sophie\\anaconda3\\lib\\site-packages (from jupyterthemes) (3.1.3)\n",
      "Requirement already satisfied: ipython>=5.4.1 in c:\\users\\sophie\\anaconda3\\lib\\site-packages (from jupyterthemes) (7.13.0)\n",
      "Collecting lesscpy>=0.11.2\n",
      "  Downloading lesscpy-0.14.0-py2.py3-none-any.whl (46 kB)\n",
      "Requirement already satisfied: jupyter-core in c:\\users\\sophie\\anaconda3\\lib\\site-packages (from jupyterthemes) (4.6.3)\n",
      "Requirement already satisfied: notebook>=5.6.0 in c:\\users\\sophie\\anaconda3\\lib\\site-packages (from jupyterthemes) (6.0.3)\n",
      "Requirement already satisfied: python-dateutil>=2.1 in c:\\users\\sophie\\anaconda3\\lib\\site-packages (from matplotlib>=1.4.3->jupyterthemes) (2.8.1)\n",
      "Requirement already satisfied: pyparsing!=2.0.4,!=2.1.2,!=2.1.6,>=2.0.1 in c:\\users\\sophie\\anaconda3\\lib\\site-packages (from matplotlib>=1.4.3->jupyterthemes) (2.4.7)\n",
      "Requirement already satisfied: numpy>=1.11 in c:\\users\\sophie\\anaconda3\\lib\\site-packages (from matplotlib>=1.4.3->jupyterthemes) (1.18.1)\n",
      "Requirement already satisfied: kiwisolver>=1.0.1 in c:\\users\\sophie\\anaconda3\\lib\\site-packages (from matplotlib>=1.4.3->jupyterthemes) (1.1.0)\n",
      "Requirement already satisfied: cycler>=0.10 in c:\\users\\sophie\\anaconda3\\lib\\site-packages (from matplotlib>=1.4.3->jupyterthemes) (0.10.0)\n",
      "Requirement already satisfied: jedi>=0.10 in c:\\users\\sophie\\anaconda3\\lib\\site-packages (from ipython>=5.4.1->jupyterthemes) (0.17.0)\n",
      "Requirement already satisfied: setuptools>=18.5 in c:\\users\\sophie\\anaconda3\\lib\\site-packages (from ipython>=5.4.1->jupyterthemes) (46.1.3.post20200330)\n",
      "Requirement already satisfied: decorator in c:\\users\\sophie\\anaconda3\\lib\\site-packages (from ipython>=5.4.1->jupyterthemes) (4.4.2)\n",
      "Requirement already satisfied: traitlets>=4.2 in c:\\users\\sophie\\anaconda3\\lib\\site-packages (from ipython>=5.4.1->jupyterthemes) (4.3.3)\n",
      "Requirement already satisfied: pygments in c:\\users\\sophie\\anaconda3\\lib\\site-packages (from ipython>=5.4.1->jupyterthemes) (2.6.1)\n",
      "Requirement already satisfied: pickleshare in c:\\users\\sophie\\anaconda3\\lib\\site-packages (from ipython>=5.4.1->jupyterthemes) (0.7.5)\n",
      "Requirement already satisfied: prompt-toolkit!=3.0.0,!=3.0.1,<3.1.0,>=2.0.0 in c:\\users\\sophie\\anaconda3\\lib\\site-packages (from ipython>=5.4.1->jupyterthemes) (3.0.4)\n",
      "Requirement already satisfied: colorama; sys_platform == \"win32\" in c:\\users\\sophie\\anaconda3\\lib\\site-packages (from ipython>=5.4.1->jupyterthemes) (0.4.3)\n",
      "Requirement already satisfied: backcall in c:\\users\\sophie\\anaconda3\\lib\\site-packages (from ipython>=5.4.1->jupyterthemes) (0.1.0)\n",
      "Requirement already satisfied: ply in c:\\users\\sophie\\anaconda3\\lib\\site-packages (from lesscpy>=0.11.2->jupyterthemes) (3.11)\n",
      "Requirement already satisfied: six in c:\\users\\sophie\\anaconda3\\lib\\site-packages (from lesscpy>=0.11.2->jupyterthemes) (1.14.0)\n",
      "Requirement already satisfied: pywin32>=1.0; sys_platform == \"win32\" in c:\\users\\sophie\\anaconda3\\lib\\site-packages (from jupyter-core->jupyterthemes) (227)\n",
      "Requirement already satisfied: jinja2 in c:\\users\\sophie\\anaconda3\\lib\\site-packages (from notebook>=5.6.0->jupyterthemes) (2.11.2)\n",
      "Requirement already satisfied: Send2Trash in c:\\users\\sophie\\anaconda3\\lib\\site-packages (from notebook>=5.6.0->jupyterthemes) (1.5.0)\n",
      "Requirement already satisfied: jupyter-client>=5.3.4 in c:\\users\\sophie\\anaconda3\\lib\\site-packages (from notebook>=5.6.0->jupyterthemes) (6.1.3)\n",
      "Requirement already satisfied: nbformat in c:\\users\\sophie\\anaconda3\\lib\\site-packages (from notebook>=5.6.0->jupyterthemes) (5.0.4)\n",
      "Requirement already satisfied: prometheus-client in c:\\users\\sophie\\anaconda3\\lib\\site-packages (from notebook>=5.6.0->jupyterthemes) (0.7.1)\n",
      "Requirement already satisfied: ipykernel in c:\\users\\sophie\\anaconda3\\lib\\site-packages (from notebook>=5.6.0->jupyterthemes) (5.1.4)\n",
      "Requirement already satisfied: ipython-genutils in c:\\users\\sophie\\anaconda3\\lib\\site-packages (from notebook>=5.6.0->jupyterthemes) (0.2.0)\n",
      "Requirement already satisfied: nbconvert in c:\\users\\sophie\\anaconda3\\lib\\site-packages (from notebook>=5.6.0->jupyterthemes) (5.6.1)\n",
      "Requirement already satisfied: pyzmq>=17 in c:\\users\\sophie\\anaconda3\\lib\\site-packages (from notebook>=5.6.0->jupyterthemes) (18.1.1)\n",
      "Requirement already satisfied: terminado>=0.8.1 in c:\\users\\sophie\\anaconda3\\lib\\site-packages (from notebook>=5.6.0->jupyterthemes) (0.8.3)\n",
      "Requirement already satisfied: tornado>=5.0 in c:\\users\\sophie\\anaconda3\\lib\\site-packages (from notebook>=5.6.0->jupyterthemes) (6.0.4)\n",
      "Requirement already satisfied: parso>=0.7.0 in c:\\users\\sophie\\anaconda3\\lib\\site-packages (from jedi>=0.10->ipython>=5.4.1->jupyterthemes) (0.7.0)\n",
      "Requirement already satisfied: wcwidth in c:\\users\\sophie\\anaconda3\\lib\\site-packages (from prompt-toolkit!=3.0.0,!=3.0.1,<3.1.0,>=2.0.0->ipython>=5.4.1->jupyterthemes) (0.1.9)\n",
      "Requirement already satisfied: MarkupSafe>=0.23 in c:\\users\\sophie\\anaconda3\\lib\\site-packages (from jinja2->notebook>=5.6.0->jupyterthemes) (1.1.1)\n",
      "Requirement already satisfied: jsonschema!=2.5.0,>=2.4 in c:\\users\\sophie\\anaconda3\\lib\\site-packages (from nbformat->notebook>=5.6.0->jupyterthemes) (3.2.0)\n",
      "Requirement already satisfied: testpath in c:\\users\\sophie\\anaconda3\\lib\\site-packages (from nbconvert->notebook>=5.6.0->jupyterthemes) (0.4.4)\n",
      "Requirement already satisfied: mistune<2,>=0.8.1 in c:\\users\\sophie\\anaconda3\\lib\\site-packages (from nbconvert->notebook>=5.6.0->jupyterthemes) (0.8.4)\n",
      "Requirement already satisfied: pandocfilters>=1.4.1 in c:\\users\\sophie\\anaconda3\\lib\\site-packages (from nbconvert->notebook>=5.6.0->jupyterthemes) (1.4.2)\n",
      "Requirement already satisfied: bleach in c:\\users\\sophie\\anaconda3\\lib\\site-packages (from nbconvert->notebook>=5.6.0->jupyterthemes) (3.1.4)\n",
      "Requirement already satisfied: defusedxml in c:\\users\\sophie\\anaconda3\\lib\\site-packages (from nbconvert->notebook>=5.6.0->jupyterthemes) (0.6.0)\n",
      "Requirement already satisfied: entrypoints>=0.2.2 in c:\\users\\sophie\\anaconda3\\lib\\site-packages (from nbconvert->notebook>=5.6.0->jupyterthemes) (0.3)\n",
      "Requirement already satisfied: attrs>=17.4.0 in c:\\users\\sophie\\anaconda3\\lib\\site-packages (from jsonschema!=2.5.0,>=2.4->nbformat->notebook>=5.6.0->jupyterthemes) (19.3.0)\n",
      "Requirement already satisfied: pyrsistent>=0.14.0 in c:\\users\\sophie\\anaconda3\\lib\\site-packages (from jsonschema!=2.5.0,>=2.4->nbformat->notebook>=5.6.0->jupyterthemes) (0.16.0)\n",
      "Requirement already satisfied: importlib-metadata; python_version < \"3.8\" in c:\\users\\sophie\\anaconda3\\lib\\site-packages (from jsonschema!=2.5.0,>=2.4->nbformat->notebook>=5.6.0->jupyterthemes) (1.5.0)\n",
      "Requirement already satisfied: webencodings in c:\\users\\sophie\\anaconda3\\lib\\site-packages (from bleach->nbconvert->notebook>=5.6.0->jupyterthemes) (0.5.1)\n",
      "Requirement already satisfied: zipp>=0.5 in c:\\users\\sophie\\anaconda3\\lib\\site-packages (from importlib-metadata; python_version < \"3.8\"->jsonschema!=2.5.0,>=2.4->nbformat->notebook>=5.6.0->jupyterthemes) (3.1.0)\n",
      "Installing collected packages: lesscpy, jupyterthemes\n",
      "Successfully installed jupyterthemes-0.20.0 lesscpy-0.14.0\n"
     ]
    }
   ],
   "source": [
    "# Requires the latest pip\n",
    "# !pip3 install --user --upgrade pip\n",
    "\n",
    "# Current stable release for CPU and GPU\n",
    "# !pip3 install --user tensorflow\n",
    "# !pip3 install --user keras\n",
    "\n",
    "# conda install -c conda-forge keras tensorflow\n",
    "# conda update -n base -c defaults conda\n",
    "#!conda install -c conda-forge jupyterthemes\n",
    "!pip3 install jupyterthemes"
   ]
  },
  {
   "cell_type": "code",
   "execution_count": 5,
   "metadata": {},
   "outputs": [],
   "source": [
    "# unzip file with all images and labels\n",
    "# filename = 'cifar-10-python.tar.gz'\n",
    "# tar = tarfile.open(filename, 'r:gz')\n",
    "# tar.extractall()\n",
    "# tar.close()"
   ]
  },
  {
   "cell_type": "code",
   "execution_count": 3,
   "metadata": {},
   "outputs": [],
   "source": [
    "projectpath = r'C:\\Users\\Sophie\\sophie-robert\\final-project'"
   ]
  },
  {
   "cell_type": "code",
   "execution_count": 4,
   "metadata": {},
   "outputs": [],
   "source": [
    "import numpy as np\n",
    "import matplotlib.pyplot as plt\n",
    "import tarfile\n",
    "import os\n",
    "import pickle"
   ]
  },
  {
   "cell_type": "code",
   "execution_count": 6,
   "metadata": {},
   "outputs": [],
   "source": [
    "# define a function to unpack the data into a dictionary\n",
    "def unpickle(file):\n",
    "    with open(file, 'rb') as fo:\n",
    "        dict = pickle.load(fo, encoding = 'bytes')\n",
    "    return dict"
   ]
  },
  {
   "cell_type": "code",
   "execution_count": 118,
   "metadata": {},
   "outputs": [],
   "source": [
    "# one hot encode the labels (could have just used keras.utils to_categorical)\n",
    "def one_hot_encode(train_labels):\n",
    "    encoded = np.zeros((n_imgs, len(np.unique(train_labels))))\n",
    "    for idx,lbl in enumerate(train_labels,0):\n",
    "        encoded[idx][lbl] = 1\n",
    "    return encoded"
   ]
  },
  {
   "cell_type": "code",
   "execution_count": 132,
   "metadata": {},
   "outputs": [],
   "source": [
    "# data comes in vectors so reshape then normalize\n",
    "def reshape_data(batchdata):\n",
    "    n_channels = 3\n",
    "    n_imgs     = batchdata.shape[0]\n",
    "    img_dim    = int(np.sqrt(batchdata.shape[1]/n_channels))\n",
    "    train_data = batchdata.reshape((n_imgs, n_channels, img_dim, img_dim)).transpose(0, 2, 3, 1)\n",
    "    train_data = (train_data / 255) - 0.5\n",
    "    return train_data, img_dim"
   ]
  },
  {
   "cell_type": "code",
   "execution_count": 324,
   "metadata": {},
   "outputs": [],
   "source": [
    "# unpack the data from the batches, do a bunch of stuff, then combine them\n",
    "batchpath  = os.path.join(projectpath, 'cifar-10-batches-py')\n",
    "\n",
    "for set in range(1,6):\n",
    "    if set == 1:\n",
    "        dirname      = os.path.join(batchpath, 'data_batch_' + str(set))\n",
    "        batch        = unpickle(dirname)\n",
    "        train_data   = reshape_data(batch[b'data'])        \n",
    "        train_labels = one_hot_encode(batch[b'labels'])\n",
    "    else:\n",
    "        dirname       = os.path.join(batchpath, 'data_batch_' + str(set))\n",
    "        batch         = unpickle(dirname)\n",
    "        train_data2   = reshape_data(batch[b'data'])\n",
    "        train_labels2 = one_hot_encode(batch[b'labels'])\n",
    "        train_data    = np.concatenate((train_data, train_data2))\n",
    "        train_labels  = np.concatenate((train_labels, train_labels2))"
   ]
  },
  {
   "cell_type": "code",
   "execution_count": 325,
   "metadata": {},
   "outputs": [
    {
     "data": {
      "text/plain": [
       "(50000, 32, 32, 3)"
      ]
     },
     "execution_count": 325,
     "metadata": {},
     "output_type": "execute_result"
    }
   ],
   "source": [
    "train_data.shape"
   ]
  },
  {
   "cell_type": "code",
   "execution_count": 289,
   "metadata": {},
   "outputs": [],
   "source": [
    "# unpack the data from test batch, manipulate\n",
    "batchpath   = os.path.join(projectpath, 'cifar-10-batches-py')\n",
    "dirname     = os.path.join(batchpath, 'test_batch')\n",
    "testbatch   = unpickle(dirname)\n",
    "test_data   = reshape_data(testbatch[b'data'])        \n",
    "test_labels = one_hot_encode(testbatch[b'labels'])"
   ]
  },
  {
   "cell_type": "code",
   "execution_count": 290,
   "metadata": {},
   "outputs": [
    {
     "data": {
      "text/plain": [
       "(10000, 10)"
      ]
     },
     "execution_count": 290,
     "metadata": {},
     "output_type": "execute_result"
    }
   ],
   "source": [
    "test_labels.shape"
   ]
  },
  {
   "cell_type": "markdown",
   "metadata": {},
   "source": [
    "### Figure out what is in the batch"
   ]
  },
  {
   "cell_type": "code",
   "execution_count": 114,
   "metadata": {},
   "outputs": [
    {
     "data": {
      "text/plain": [
       "[b'batch_label', b'labels', b'data', b'filenames']"
      ]
     },
     "execution_count": 114,
     "metadata": {},
     "output_type": "execute_result"
    }
   ],
   "source": [
    "# what are the key types\n",
    "list(batch.keys())"
   ]
  },
  {
   "cell_type": "code",
   "execution_count": 121,
   "metadata": {},
   "outputs": [
    {
     "data": {
      "text/plain": [
       "10000"
      ]
     },
     "execution_count": 121,
     "metadata": {},
     "output_type": "execute_result"
    }
   ],
   "source": [
    "len(batch[b'labels'])"
   ]
  },
  {
   "cell_type": "code",
   "execution_count": 103,
   "metadata": {},
   "outputs": [
    {
     "data": {
      "text/plain": [
       "(10000, 3072)"
      ]
     },
     "execution_count": 103,
     "metadata": {},
     "output_type": "execute_result"
    }
   ],
   "source": [
    "# rows = images, columns = pixels in an image\n",
    "batch[b'data'].shape "
   ]
  },
  {
   "cell_type": "code",
   "execution_count": 229,
   "metadata": {},
   "outputs": [],
   "source": [
    "# back calculating the shape of the image\n",
    "n_channels = 3\n",
    "n_imgs = batch[b'data'].shape[0]\n",
    "img_dim = int(np.sqrt(batch[b'data'].shape[1]/n_channels))\n",
    "\n",
    "train_data = batch[b'data'].reshape((n_imgs, n_channels, img_dim, img_dim)).transpose(0, 2, 3, 1)"
   ]
  },
  {
   "cell_type": "code",
   "execution_count": 274,
   "metadata": {},
   "outputs": [],
   "source": [
    "# normalize the images\n",
    "train_data = (train_data / 255) - 0.5"
   ]
  },
  {
   "cell_type": "markdown",
   "metadata": {},
   "source": [
    "### Build the network"
   ]
  },
  {
   "cell_type": "code",
   "execution_count": 317,
   "metadata": {},
   "outputs": [],
   "source": [
    "import tensorflow as tf\n",
    "import matplotlib.pyplot as plt\n",
    "from keras.models import Sequential\n",
    "from keras.layers import Dense, Conv2D, Flatten, Dropout, MaxPool2D, BatchNormalization, Activation\n",
    "from keras.callbacks import EarlyStopping, ModelCheckpoint"
   ]
  },
  {
   "cell_type": "code",
   "execution_count": 319,
   "metadata": {},
   "outputs": [
    {
     "name": "stdout",
     "output_type": "stream",
     "text": [
      "Train on 40000 samples, validate on 10000 samples\n",
      "Epoch 1/100\n",
      "40000/40000 [==============================] - 90s 2ms/step - loss: 1.5540 - accuracy: 0.4290 - val_loss: 2.7456 - val_accuracy: 0.1718\n",
      "Epoch 2/100\n",
      "40000/40000 [==============================] - 89s 2ms/step - loss: 1.1980 - accuracy: 0.5649 - val_loss: 1.1725 - val_accuracy: 0.5793\n",
      "Epoch 3/100\n",
      "40000/40000 [==============================] - 88s 2ms/step - loss: 1.0441 - accuracy: 0.6221 - val_loss: 1.0571 - val_accuracy: 0.6256\n",
      "Epoch 4/100\n",
      "40000/40000 [==============================] - 89s 2ms/step - loss: 0.9439 - accuracy: 0.6632 - val_loss: 0.9249 - val_accuracy: 0.6732\n",
      "Epoch 5/100\n",
      "40000/40000 [==============================] - 87s 2ms/step - loss: 0.8776 - accuracy: 0.6881 - val_loss: 0.8977 - val_accuracy: 0.6839\n",
      "Epoch 6/100\n",
      "40000/40000 [==============================] - 90s 2ms/step - loss: 0.8222 - accuracy: 0.7060 - val_loss: 0.9162 - val_accuracy: 0.6784\n",
      "Epoch 7/100\n",
      "40000/40000 [==============================] - 91s 2ms/step - loss: 0.7770 - accuracy: 0.7256 - val_loss: 0.9445 - val_accuracy: 0.6664\n",
      "Epoch 8/100\n",
      "40000/40000 [==============================] - 101s 3ms/step - loss: 0.7423 - accuracy: 0.7397 - val_loss: 0.8442 - val_accuracy: 0.7160\n",
      "Epoch 9/100\n",
      "40000/40000 [==============================] - 90s 2ms/step - loss: 0.7169 - accuracy: 0.7493 - val_loss: 0.8206 - val_accuracy: 0.7163\n",
      "Epoch 10/100\n",
      "40000/40000 [==============================] - 101s 3ms/step - loss: 0.6864 - accuracy: 0.7592 - val_loss: 0.8400 - val_accuracy: 0.7139\n",
      "Epoch 11/100\n",
      "40000/40000 [==============================] - 86s 2ms/step - loss: 0.6673 - accuracy: 0.7652 - val_loss: 0.8943 - val_accuracy: 0.7033\n",
      "Epoch 12/100\n",
      "40000/40000 [==============================] - 87s 2ms/step - loss: 0.6438 - accuracy: 0.7756 - val_loss: 0.7658 - val_accuracy: 0.7389\n",
      "Epoch 13/100\n",
      "40000/40000 [==============================] - 98s 2ms/step - loss: 0.6239 - accuracy: 0.7802 - val_loss: 0.8137 - val_accuracy: 0.7224\n",
      "Epoch 14/100\n",
      "40000/40000 [==============================] - 100s 3ms/step - loss: 0.6073 - accuracy: 0.7855 - val_loss: 0.7893 - val_accuracy: 0.7279\n",
      "Epoch 15/100\n",
      "40000/40000 [==============================] - 85s 2ms/step - loss: 0.5866 - accuracy: 0.7910 - val_loss: 0.6970 - val_accuracy: 0.7605\n",
      "Epoch 16/100\n",
      "40000/40000 [==============================] - 86s 2ms/step - loss: 0.5771 - accuracy: 0.7971 - val_loss: 0.8033 - val_accuracy: 0.7293\n",
      "Epoch 17/100\n",
      "40000/40000 [==============================] - 85s 2ms/step - loss: 0.5647 - accuracy: 0.8008 - val_loss: 0.7036 - val_accuracy: 0.7627\n",
      "Epoch 18/100\n",
      "40000/40000 [==============================] - 86s 2ms/step - loss: 0.5535 - accuracy: 0.8058 - val_loss: 0.7228 - val_accuracy: 0.7567\n",
      "Epoch 19/100\n",
      "40000/40000 [==============================] - 93s 2ms/step - loss: 0.5435 - accuracy: 0.8086 - val_loss: 0.7570 - val_accuracy: 0.7506\n",
      "Epoch 20/100\n",
      "40000/40000 [==============================] - 86s 2ms/step - loss: 0.5349 - accuracy: 0.8113 - val_loss: 0.7195 - val_accuracy: 0.7586\n",
      "Epoch 21/100\n",
      "40000/40000 [==============================] - 86s 2ms/step - loss: 0.5200 - accuracy: 0.8145 - val_loss: 0.7494 - val_accuracy: 0.7568\n",
      "Epoch 22/100\n",
      "40000/40000 [==============================] - 85s 2ms/step - loss: 0.5114 - accuracy: 0.8202 - val_loss: 0.6992 - val_accuracy: 0.7682\n",
      "Epoch 23/100\n",
      "40000/40000 [==============================] - 89s 2ms/step - loss: 0.4992 - accuracy: 0.8224 - val_loss: 0.7463 - val_accuracy: 0.7582\n",
      "Epoch 24/100\n",
      "40000/40000 [==============================] - 87s 2ms/step - loss: 0.4908 - accuracy: 0.8254 - val_loss: 0.6709 - val_accuracy: 0.7764\n",
      "Epoch 25/100\n",
      "40000/40000 [==============================] - 87s 2ms/step - loss: 0.4766 - accuracy: 0.8308 - val_loss: 0.7168 - val_accuracy: 0.7635\n",
      "Epoch 26/100\n",
      "40000/40000 [==============================] - 89s 2ms/step - loss: 0.4745 - accuracy: 0.8333 - val_loss: 0.6969 - val_accuracy: 0.7714\n",
      "Epoch 27/100\n",
      "40000/40000 [==============================] - 88s 2ms/step - loss: 0.4679 - accuracy: 0.8336 - val_loss: 0.6533 - val_accuracy: 0.7807\n",
      "Epoch 28/100\n",
      "40000/40000 [==============================] - 93s 2ms/step - loss: 0.4612 - accuracy: 0.8380 - val_loss: 0.6986 - val_accuracy: 0.7709\n",
      "Epoch 29/100\n",
      "40000/40000 [==============================] - 90s 2ms/step - loss: 0.4609 - accuracy: 0.8378 - val_loss: 0.6645 - val_accuracy: 0.7846\n",
      "Epoch 30/100\n",
      "40000/40000 [==============================] - 90s 2ms/step - loss: 0.4476 - accuracy: 0.8402 - val_loss: 0.6678 - val_accuracy: 0.7804\n",
      "Epoch 31/100\n",
      "40000/40000 [==============================] - 86s 2ms/step - loss: 0.4386 - accuracy: 0.8425 - val_loss: 0.8213 - val_accuracy: 0.7492\n",
      "Epoch 32/100\n",
      "40000/40000 [==============================] - 90s 2ms/step - loss: 0.4343 - accuracy: 0.8470 - val_loss: 0.6728 - val_accuracy: 0.7785\n",
      "Epoch 33/100\n",
      "40000/40000 [==============================] - 92s 2ms/step - loss: 0.4312 - accuracy: 0.8473 - val_loss: 0.7092 - val_accuracy: 0.7709\n",
      "Epoch 34/100\n",
      "40000/40000 [==============================] - 91s 2ms/step - loss: 0.4264 - accuracy: 0.8489 - val_loss: 0.6877 - val_accuracy: 0.7781\n",
      "Epoch 35/100\n",
      "40000/40000 [==============================] - 90s 2ms/step - loss: 0.4177 - accuracy: 0.8508 - val_loss: 0.7281 - val_accuracy: 0.7696\n",
      "Epoch 36/100\n",
      "40000/40000 [==============================] - 91s 2ms/step - loss: 0.4076 - accuracy: 0.8553 - val_loss: 0.7289 - val_accuracy: 0.7702\n",
      "Epoch 37/100\n",
      "40000/40000 [==============================] - 91s 2ms/step - loss: 0.4072 - accuracy: 0.8545 - val_loss: 0.7289 - val_accuracy: 0.7733\n",
      "Epoch 38/100\n",
      "40000/40000 [==============================] - 91s 2ms/step - loss: 0.4051 - accuracy: 0.8556 - val_loss: 0.7081 - val_accuracy: 0.7771\n",
      "Epoch 39/100\n",
      "40000/40000 [==============================] - 95s 2ms/step - loss: 0.3980 - accuracy: 0.8566 - val_loss: 0.7204 - val_accuracy: 0.7691\n",
      "Epoch 40/100\n",
      "40000/40000 [==============================] - 93s 2ms/step - loss: 0.3886 - accuracy: 0.8611 - val_loss: 0.7403 - val_accuracy: 0.7747\n",
      "Epoch 41/100\n",
      "40000/40000 [==============================] - 93s 2ms/step - loss: 0.3958 - accuracy: 0.8607 - val_loss: 0.7383 - val_accuracy: 0.7717\n",
      "Epoch 42/100\n",
      "40000/40000 [==============================] - 89s 2ms/step - loss: 0.3890 - accuracy: 0.8624 - val_loss: 0.6962 - val_accuracy: 0.7826\n"
     ]
    },
    {
     "data": {
      "image/png": "[encoded data removed]",
      "text/plain": [
       "<Figure size 432x288 with 1 Axes>"
      ]
     },
     "metadata": {
      "needs_background": "light"
     },
     "output_type": "display_data"
    }
   ],
   "source": [
    "model = Sequential()\n",
    "model.add(Conv2D(32, \n",
    "                 kernel_size = 3, \n",
    "                 activation  = 'relu', \n",
    "                 padding     = 'same', \n",
    "                 input_shape = (img_dim,\n",
    "                                img_dim,\n",
    "                                3)))\n",
    "model.add(MaxPool2D(2))\n",
    "model.add(Dropout(0.25))\n",
    "model.add(Conv2D(32,\n",
    "                 kernel_size = 5, \n",
    "                 activation  = 'relu',\n",
    "                 padding     = 'same'))\n",
    "model.add(MaxPool2D(2))\n",
    "model.add(Dropout(0.25))\n",
    "model.add(Conv2D(64,\n",
    "                 kernel_size = 3))\n",
    "model.add(BatchNormalization())\n",
    "model.add(Activation('relu'))\n",
    "model.add(Conv2D(64, \n",
    "                 activation='relu',\n",
    "                 kernel_size = 3))\n",
    "model.add(MaxPool2D(2))\n",
    "model.add(Flatten())\n",
    "model.add(Dense  (64,  activation='relu'))\n",
    "model.add(Dense  (128))\n",
    "model.add(BatchNormalization())\n",
    "model.add(Activation('relu'))\n",
    "\n",
    "model.add(Dense  (64,  activation='relu'))\n",
    "model.add(Dense  (10,  activation='softmax'))\n",
    "\n",
    "early_stopping_monitor = EarlyStopping(patience = 15,\n",
    "                                       restore_best_weights = True)\n",
    "\n",
    "model.compile(optimizer = 'adam', \n",
    "              loss      = 'categorical_crossentropy', \n",
    "              metrics   = ['accuracy'])\n",
    "\n",
    "training = model.fit(train_data, \n",
    "                     train_labels, \n",
    "                     validation_split = 0.2, \n",
    "                     epochs = 100, \n",
    "                     batch_size = 125,\n",
    "                     callbacks = [early_stopping_monitor])\n",
    "\n",
    "model.save('model_saved9.h5')\n",
    "\n",
    "plt.plot(training.history['loss'])\n",
    "plt.plot(training.history['val_loss'])\n",
    "plt.show()"
   ]
  },
  {
   "cell_type": "code",
   "execution_count": 331,
   "metadata": {},
   "outputs": [
    {
     "data": {
      "text/plain": [
       "dict_keys(['val_loss', 'val_accuracy', 'loss', 'accuracy'])"
      ]
     },
     "execution_count": 331,
     "metadata": {},
     "output_type": "execute_result"
    }
   ],
   "source": [
    "training.history"
   ]
  },
  {
   "cell_type": "code",
   "execution_count": 356,
   "metadata": {},
   "outputs": [
    {
     "data": {
      "image/png": "[encoded data removed]",
      "text/plain": [
       "<Figure size 576x288 with 2 Axes>"
      ]
     },
     "metadata": {
      "needs_background": "light"
     },
     "output_type": "display_data"
    }
   ],
   "source": [
    "fig, axs = plt.subplots(1, 2, figsize=(8, 4))\n",
    "axs[0].plot(training.history['loss'])\n",
    "axs[0].plot(training.history['val_loss'])\n",
    "axs[0].set_title('Loss')\n",
    "axs[1].plot(training.history['accuracy'])\n",
    "axs[1].plot(training.history['val_accuracy'])\n",
    "axs[1].set_title('Accuracy')\n",
    "\n",
    "fig.subplots_adjust(top = 0.8, bottom = 0.1, hspace = 0.5, wspace = 0.5)\n",
    "plt.show()\n",
    "fig.savefig('loss&accuracyModel9.png')"
   ]
  },
  {
   "cell_type": "code",
   "execution_count": 144,
   "metadata": {},
   "outputs": [
    {
     "data": {
      "text/plain": [
       "(3, 3, 3, 16)"
      ]
     },
     "execution_count": 144,
     "metadata": {},
     "output_type": "execute_result"
    }
   ],
   "source": [
    "conv1 = model.layers[0]\n",
    "weights1 = conv1.get_weights()\n",
    "kernels1 = weights1[0]\n",
    "kernels1.shape"
   ]
  },
  {
   "cell_type": "code",
   "execution_count": 172,
   "metadata": {},
   "outputs": [
    {
     "data": {
      "image/png": "[encoded data removed]",
      "text/plain": [
       "<Figure size 432x288 with 1 Axes>"
      ]
     },
     "metadata": {
      "needs_background": "light"
     },
     "output_type": "display_data"
    }
   ],
   "source": [
    "kernels1_1 = kernels1[:,:,:,0]\n",
    "kernels1_1\n",
    "kernels1_1avg = np.mean(kernels1_1, axis=0)\n",
    "\n",
    "plt.imshow(kernels1_1avg);\n",
    "plt.axis('off')"
   ]
  },
  {
   "cell_type": "code",
   "execution_count": 195,
   "metadata": {},
   "outputs": [],
   "source": [
    "def convolution(kernel, image):\n",
    "    img_dim     = image.shape[0]\n",
    "    channels    = image.shape[2]\n",
    "    kernel_size = kernel.shape[0]\n",
    "    output_size = img_dim-(kernel_size-1)\n",
    "    conv        = np.zeros((output_size,output_size))\n",
    "    \n",
    "    for ii in range(output_size):\n",
    "        for jj in range(output_size):\n",
    "            window = image[ii:ii+kernel_size, jj:jj+kernel_size]\n",
    "            conv[ii,jj] = np.sum(window*kernel)\n",
    "            \n",
    "    return conv"
   ]
  },
  {
   "cell_type": "code",
   "execution_count": 273,
   "metadata": {},
   "outputs": [
    {
     "data": {
      "image/png": "[encoded data removed]",
      "text/plain": [
       "<Figure size 576x576 with 2 Axes>"
      ]
     },
     "metadata": {
      "needs_background": "light"
     },
     "output_type": "display_data"
    }
   ],
   "source": [
    "image = train_data[25,:,:,:]\n",
    "conv = convolution(kernels1_1, image)\n",
    "\n",
    "fig, axs = plt.subplots(1, 2, figsize=(8, 8))\n",
    "axs[0].set_title('Original Image')\n",
    "axs[0].imshow(image);\n",
    "axs[0].axis('off')\n",
    "\n",
    "axs[1].set_title('Convolution Output')\n",
    "axs[1].imshow(conv);\n",
    "axs[1].axis('off')\n",
    "plt.show()"
   ]
  },
  {
   "cell_type": "code",
   "execution_count": 357,
   "metadata": {},
   "outputs": [
    {
     "ename": "NameError",
     "evalue": "name 'my_model' is not defined",
     "output_type": "error",
     "traceback": [
      "\u001b[1;31m---------------------------------------------------------------------------\u001b[0m",
      "\u001b[1;31mNameError\u001b[0m                                 Traceback (most recent call last)",
      "\u001b[1;32m<ipython-input-357-353f02c3281f>\u001b[0m in \u001b[0;36m<module>\u001b[1;34m\u001b[0m\n\u001b[1;32m----> 1\u001b[1;33m \u001b[0mconv1\u001b[0m    \u001b[1;33m=\u001b[0m \u001b[0mmy_model\u001b[0m\u001b[1;33m.\u001b[0m\u001b[0mlayers\u001b[0m\u001b[1;33m[\u001b[0m\u001b[1;36m0\u001b[0m\u001b[1;33m]\u001b[0m\u001b[1;33m\u001b[0m\u001b[1;33m\u001b[0m\u001b[0m\n\u001b[0m\u001b[0;32m      2\u001b[0m \u001b[0mweights1\u001b[0m \u001b[1;33m=\u001b[0m \u001b[0mconv1\u001b[0m\u001b[1;33m.\u001b[0m\u001b[0mget_weights\u001b[0m\u001b[1;33m(\u001b[0m\u001b[1;33m)\u001b[0m\u001b[1;33m\u001b[0m\u001b[1;33m\u001b[0m\u001b[0m\n\u001b[0;32m      3\u001b[0m \u001b[0mkernels1\u001b[0m \u001b[1;33m=\u001b[0m \u001b[0mweights1\u001b[0m\u001b[1;33m[\u001b[0m\u001b[1;36m0\u001b[0m\u001b[1;33m]\u001b[0m \u001b[1;31m# shape of 32 kernels (3, 3, 3, 32)\u001b[0m\u001b[1;33m\u001b[0m\u001b[1;33m\u001b[0m\u001b[0m\n\u001b[0;32m      4\u001b[0m \u001b[1;33m\u001b[0m\u001b[0m\n\u001b[0;32m      5\u001b[0m \u001b[0mkernels1_1\u001b[0m \u001b[1;33m=\u001b[0m \u001b[0mkernels1\u001b[0m\u001b[1;33m[\u001b[0m\u001b[1;33m:\u001b[0m\u001b[1;33m,\u001b[0m\u001b[1;33m:\u001b[0m\u001b[1;33m,\u001b[0m\u001b[1;33m:\u001b[0m\u001b[1;33m,\u001b[0m\u001b[1;36m16\u001b[0m\u001b[1;33m]\u001b[0m\u001b[1;33m\u001b[0m\u001b[1;33m\u001b[0m\u001b[0m\n",
      "\u001b[1;31mNameError\u001b[0m: name 'my_model' is not defined"
     ]
    }
   ],
   "source": [
    "conv1    = my_model.layers[0]\n",
    "weights1 = conv1.get_weights()\n",
    "kernels1 = weights1[0] # shape of 32 kernels (3, 3, 3, 32)\n",
    "\n",
    "kernels1_1 = kernels1[:,:,:,16]\n",
    "kernels1_1avg = np.mean(kernels1_1, axis=0)\n",
    "\n",
    "kernels1_2 = kernels1[:,:,:,17]\n",
    "kernels1_2avg = np.mean(kernels1_2, axis=0)\n",
    "\n",
    "fig, axs = plt.subplots(2, 3, figsize=(8, 8))\n",
    "axs[0,0].imshow(kernels1_1[:,:,0], cmap=plt.cm.get_cmap('Reds', 6));\n",
    "axs[0,0].axis('off');\n",
    "axs[0,1].set_title('Kernel 1: edges?')\n",
    "axs[0,1].imshow(kernels1_1[:,:,1], cmap=plt.cm.get_cmap('Greens', 6));\n",
    "axs[0,1].axis('off');\n",
    "axs[0,2].imshow(kernels1_1[:,:,2], cmap=plt.cm.get_cmap('Blues', 6));\n",
    "axs[0,2].axis('off');\n",
    "\n",
    "axs[1,0].imshow(kernels1_2[:,:,0], cmap=plt.cm.get_cmap('Reds', 6));\n",
    "axs[1,0].axis('off');\n",
    "axs[1,1].set_title('Kernel 2: horizontal?')\n",
    "axs[1,1].imshow(kernels1_2[:,:,1], cmap=plt.cm.get_cmap('Greens', 6));\n",
    "axs[1,1].axis('off');\n",
    "axs[1,2].imshow(kernels1_2[:,:,2], cmap=plt.cm.get_cmap('Blues', 6));\n",
    "axs[1,2].axis('off');\n",
    "\n",
    "fig.subplots_adjust(top = 0.7, bottom = 0.1, hspace = 0.1, wspace = 0.1)"
   ]
  },
  {
   "cell_type": "code",
   "execution_count": null,
   "metadata": {},
   "outputs": [],
   "source": [
    "image1 = train_data[1,:,:,:]\n",
    "image2 = train_data[50,:,:,:]\n",
    "conv1 = convolution(kernels1_1, image1)\n",
    "conv2 = convolution(kernels1_1, image2)\n",
    "conv3 = convolution(kernels1_2, image1)\n",
    "conv4 = convolution(kernels1_2, image2)\n",
    "\n",
    "fig, axs = plt.subplots(2, 4, figsize=(14, 14))\n",
    "axs[0,0].set_title('Original Image')\n",
    "axs[0,0].imshow(image1);\n",
    "axs[0,0].axis('off');\n",
    "\n",
    "axs[0,1].set_title('Convolution Output')\n",
    "axs[0,1].imshow(conv1);\n",
    "axs[0,1].axis('off');\n",
    "\n",
    "axs[0,2].set_title('Original Image')\n",
    "axs[0,2].imshow(image2);\n",
    "axs[0,2].axis('off');\n",
    "\n",
    "axs[0,3].set_title('Convolution Output')\n",
    "axs[0,3].imshow(conv2);\n",
    "axs[0,3].axis('off');\n",
    "\n",
    "axs[1,0].set_title('Original Image')\n",
    "axs[1,0].imshow(image1);\n",
    "axs[1,0].axis('off');\n",
    "\n",
    "axs[1,1].set_title('Convolution Output')\n",
    "axs[1,1].imshow(conv3);\n",
    "axs[1,1].axis('off');\n",
    "\n",
    "axs[1,2].set_title('Original Image')\n",
    "axs[1,2].imshow(image2);\n",
    "axs[1,2].axis('off');\n",
    "\n",
    "axs[1,3].set_title('Convolution Output')\n",
    "axs[1,3].imshow(conv4);\n",
    "axs[1,3].axis('off');\n",
    "\n",
    "fig.subplots_adjust(top = 0.5, bottom = 0.1, hspace = 0.1, wspace = 0.1)\n",
    "plt.show()\n",
    "fig.savefig('conv_output.png')"
   ]
  },
  {
   "cell_type": "code",
   "execution_count": 295,
   "metadata": {},
   "outputs": [
    {
     "name": "stdout",
     "output_type": "stream",
     "text": [
      "Model: \"sequential_25\"\n",
      "_________________________________________________________________\n",
      "Layer (type)                 Output Shape              Param #   \n",
      "=================================================================\n",
      "conv2d_63 (Conv2D)           (None, 32, 32, 32)        896       \n",
      "_________________________________________________________________\n",
      "max_pooling2d_63 (MaxPooling (None, 16, 16, 32)        0         \n",
      "_________________________________________________________________\n",
      "dropout_62 (Dropout)         (None, 16, 16, 32)        0         \n",
      "_________________________________________________________________\n",
      "conv2d_64 (Conv2D)           (None, 16, 16, 32)        25632     \n",
      "_________________________________________________________________\n",
      "max_pooling2d_64 (MaxPooling (None, 8, 8, 32)          0         \n",
      "_________________________________________________________________\n",
      "dropout_63 (Dropout)         (None, 8, 8, 32)          0         \n",
      "_________________________________________________________________\n",
      "conv2d_65 (Conv2D)           (None, 6, 6, 64)          18496     \n",
      "_________________________________________________________________\n",
      "max_pooling2d_65 (MaxPooling (None, 2, 2, 64)          0         \n",
      "_________________________________________________________________\n",
      "flatten_24 (Flatten)         (None, 256)               0         \n",
      "_________________________________________________________________\n",
      "dense_84 (Dense)             (None, 64)                16448     \n",
      "_________________________________________________________________\n",
      "dense_85 (Dense)             (None, 128)               8320      \n",
      "_________________________________________________________________\n",
      "dropout_64 (Dropout)         (None, 128)               0         \n",
      "_________________________________________________________________\n",
      "dense_86 (Dense)             (None, 64)                8256      \n",
      "_________________________________________________________________\n",
      "dense_87 (Dense)             (None, 10)                650       \n",
      "=================================================================\n",
      "Total params: 78,698\n",
      "Trainable params: 78,698\n",
      "Non-trainable params: 0\n",
      "_________________________________________________________________\n"
     ]
    }
   ],
   "source": [
    "model.summary()"
   ]
  },
  {
   "cell_type": "code",
   "execution_count": 321,
   "metadata": {},
   "outputs": [
    {
     "name": "stdout",
     "output_type": "stream",
     "text": [
      "10000/10000 [==============================] - 5s 535us/step\n",
      "Test loss: 0.6816482432186604\n",
      "Test accuracy: 0.7774999737739563\n"
     ]
    }
   ],
   "source": [
    "early_stopping_monitor = EarlyStopping(patience = 15)\n",
    "\n",
    "score = model.evaluate(test_data, \n",
    "                       test_labels,\n",
    "                       callbacks = [early_stopping_monitor], \n",
    "                       batch_size = 125)\n",
    "\n",
    "print('Test loss:', score[0])\n",
    "print('Test accuracy:', score[1])"
   ]
  }
 ],
 "metadata": {
  "kernelspec": {
   "display_name": "Python 3",
   "language": "python",
   "name": "python3"
  },
  "language_info": {
   "codemirror_mode": {
    "name": "ipython",
    "version": 3
   },
   "file_extension": ".py",
   "mimetype": "text/x-python",
   "name": "python",
   "nbconvert_exporter": "python",
   "pygments_lexer": "ipython3",
   "version": "3.7.6"
  }
 },
 "nbformat": 4,
 "nbformat_minor": 4
}
