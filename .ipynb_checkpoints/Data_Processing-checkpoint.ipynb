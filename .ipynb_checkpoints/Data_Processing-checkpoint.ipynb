{
 "cells": [
  {
   "cell_type": "markdown",
   "metadata": {},
   "source": [
    "### Get the materials"
   ]
  },
  {
   "cell_type": "code",
   "execution_count": null,
   "metadata": {},
   "outputs": [],
   "source": [
    "# Requires the latest pip\n",
    "# !pip3 install --user --upgrade pip\n",
    "\n",
    "# Current stable release for CPU and GPU\n",
    "# !pip3 install --user tensorflow\n",
    "# !pip3 install --user keras\n",
    "\n",
    "# conda install -c conda-forge keras tensorflow\n",
    "# conda update -n base -c defaults conda\n",
    "#!conda install -c conda-forge jupyterthemes"
   ]
  },
  {
   "cell_type": "code",
   "execution_count": null,
   "metadata": {},
   "outputs": [],
   "source": [
    "# unzip file with all images and labels\n",
    "# filename = 'cifar-10-python.tar.gz'\n",
    "# tar = tarfile.open(filename, 'r:gz')\n",
    "# tar.extractall()\n",
    "# tar.close()"
   ]
  },
  {
   "cell_type": "code",
   "execution_count": 1,
   "metadata": {},
   "outputs": [],
   "source": [
    "from pathlib import Path\n",
    "projectpath = Path.cwd().absolute()"
   ]
  },
  {
   "cell_type": "markdown",
   "metadata": {},
   "source": [
    "### Figure out what is in the batch"
   ]
  },
  {
   "cell_type": "code",
   "execution_count": 2,
   "metadata": {},
   "outputs": [],
   "source": [
    "import numpy as np\n",
    "import matplotlib.pyplot as plt\n",
    "import tarfile\n",
    "import os\n",
    "import pickle"
   ]
  },
  {
   "cell_type": "code",
   "execution_count": 3,
   "metadata": {},
   "outputs": [],
   "source": [
    "# define a function to unpack the data into a dictionary\n",
    "def unpickle(file):\n",
    "    with open(file, 'rb') as fo:\n",
    "        dict = pickle.load(fo, encoding = 'bytes')\n",
    "    return dict"
   ]
  },
  {
   "cell_type": "code",
   "execution_count": 4,
   "metadata": {},
   "outputs": [
    {
     "data": {
      "text/plain": [
       "[b'batch_label', b'labels', b'data', b'filenames']"
      ]
     },
     "execution_count": 4,
     "metadata": {},
     "output_type": "execute_result"
    }
   ],
   "source": [
    "dirpath   = os.path.join(projectpath, 'cifar-10-batches-py')\n",
    "batchpath = os.path.join(dirpath, 'data_batch_1')\n",
    "batch     = unpickle(batchpath)\n",
    "\n",
    "# what are the key types\n",
    "list(batch.keys())"
   ]
  },
  {
   "cell_type": "code",
   "execution_count": 5,
   "metadata": {},
   "outputs": [
    {
     "data": {
      "text/plain": [
       "10000"
      ]
     },
     "execution_count": 5,
     "metadata": {},
     "output_type": "execute_result"
    }
   ],
   "source": [
    "len(batch[b'labels'])"
   ]
  },
  {
   "cell_type": "code",
   "execution_count": 6,
   "metadata": {},
   "outputs": [
    {
     "data": {
      "text/plain": [
       "(10000, 3072)"
      ]
     },
     "execution_count": 6,
     "metadata": {},
     "output_type": "execute_result"
    }
   ],
   "source": [
    "# rows = images, columns = pixels in an image\n",
    "batch[b'data'].shape "
   ]
  },
  {
   "cell_type": "code",
   "execution_count": 7,
   "metadata": {},
   "outputs": [],
   "source": [
    "# back calculating the shape of the image\n",
    "n_channels = 3\n",
    "n_imgs = batch[b'data'].shape[0]\n",
    "img_dim = int(np.sqrt(batch[b'data'].shape[1]/n_channels))\n",
    "\n",
    "train_data = batch[b'data'].reshape((n_imgs, n_channels, img_dim, img_dim)).transpose(0, 2, 3, 1)"
   ]
  },
  {
   "cell_type": "code",
   "execution_count": 8,
   "metadata": {},
   "outputs": [],
   "source": [
    "# normalize the images\n",
    "train_data = (train_data / 255) - 0.5"
   ]
  },
  {
   "cell_type": "markdown",
   "metadata": {},
   "source": [
    "### Process all batches and form into dataset"
   ]
  },
  {
   "cell_type": "code",
   "execution_count": 9,
   "metadata": {},
   "outputs": [],
   "source": [
    "# one hot encode the labels (could have just used keras.utils to_categorical)\n",
    "def one_hot_encode(train_labels):\n",
    "    encoded = np.zeros((n_imgs, len(np.unique(train_labels))))\n",
    "    for idx,lbl in enumerate(train_labels,0):\n",
    "        encoded[idx][lbl] = 1\n",
    "    return encoded"
   ]
  },
  {
   "cell_type": "code",
   "execution_count": 10,
   "metadata": {},
   "outputs": [],
   "source": [
    "# data comes in vectors so reshape then normalize\n",
    "def reshape_data(batchdata):\n",
    "    # reshape\n",
    "    n_channels = 3\n",
    "    n_imgs     = batchdata.shape[0]\n",
    "    img_dim    = int(np.sqrt(batchdata.shape[1]/n_channels))\n",
    "    train_data = batchdata.reshape((n_imgs, n_channels, img_dim, img_dim)).transpose(0, 2, 3, 1)\n",
    "    # normalize\n",
    "    train_data = (train_data / 255) - 0.5\n",
    "    return train_data, img_dim"
   ]
  },
  {
   "cell_type": "code",
   "execution_count": 11,
   "metadata": {},
   "outputs": [],
   "source": [
    "# unpack the data from the batches, do a bunch of stuff, then combine them\n",
    "batchpath  = os.path.join(projectpath, 'cifar-10-batches-py')\n",
    "\n",
    "for set in range(1,6):\n",
    "    if set == 1:\n",
    "        dirname       = os.path.join(batchpath, 'data_batch_' + str(set))\n",
    "        batch         = unpickle(dirname)\n",
    "        train_data, n = reshape_data(batch[b'data'])        \n",
    "        train_labels  = one_hot_encode(batch[b'labels'])\n",
    "    else:\n",
    "        dirname        = os.path.join(batchpath, 'data_batch_' + str(set))\n",
    "        batch          = unpickle(dirname)\n",
    "        train_data2, n = reshape_data(batch[b'data'])\n",
    "        train_labels2  = one_hot_encode(batch[b'labels'])\n",
    "        train_data     = np.concatenate((train_data, train_data2))\n",
    "        train_labels   = np.concatenate((train_labels, train_labels2))"
   ]
  },
  {
   "cell_type": "code",
   "execution_count": 12,
   "metadata": {},
   "outputs": [
    {
     "data": {
      "text/plain": [
       "(50000, 32, 32, 3)"
      ]
     },
     "execution_count": 12,
     "metadata": {},
     "output_type": "execute_result"
    }
   ],
   "source": [
    "train_data.shape"
   ]
  },
  {
   "cell_type": "code",
   "execution_count": 13,
   "metadata": {},
   "outputs": [],
   "source": [
    "# unpack the data from test batch, manipulate\n",
    "batchpath          = os.path.join(projectpath, 'cifar-10-batches-py')\n",
    "dirname            = os.path.join(batchpath, 'test_batch')\n",
    "testbatch          = unpickle(dirname)\n",
    "test_data, img_dim = reshape_data(testbatch[b'data'])        \n",
    "test_labels        = one_hot_encode(testbatch[b'labels'])"
   ]
  },
  {
   "cell_type": "code",
   "execution_count": 14,
   "metadata": {},
   "outputs": [
    {
     "data": {
      "text/plain": [
       "(10000, 10)"
      ]
     },
     "execution_count": 14,
     "metadata": {},
     "output_type": "execute_result"
    }
   ],
   "source": [
    "test_labels.shape"
   ]
  },
  {
   "cell_type": "markdown",
   "metadata": {},
   "source": [
    "### Build the network"
   ]
  },
  {
   "cell_type": "code",
   "execution_count": 15,
   "metadata": {},
   "outputs": [
    {
     "name": "stderr",
     "output_type": "stream",
     "text": [
      "Using TensorFlow backend.\n"
     ]
    }
   ],
   "source": [
    "import tensorflow as tf\n",
    "import matplotlib.pyplot as plt\n",
    "from keras.models import Sequential\n",
    "from keras.layers import Dense, Conv2D, Flatten, Dropout, MaxPool2D, BatchNormalization, Activation\n",
    "from keras.callbacks import EarlyStopping, ModelCheckpoint"
   ]
  },
  {
   "cell_type": "code",
   "execution_count": 16,
   "metadata": {},
   "outputs": [
    {
     "name": "stdout",
     "output_type": "stream",
     "text": [
      "Train on 40000 samples, validate on 10000 samples\n",
      "Epoch 1/100\n",
      "40000/40000 [==============================] - 199s 5ms/step - loss: 1.5833 - accuracy: 0.4203 - val_loss: 2.4149 - val_accuracy: 0.2292\n",
      "Epoch 2/100\n",
      "40000/40000 [==============================] - 131s 3ms/step - loss: 1.1874 - accuracy: 0.5696 - val_loss: 1.3690 - val_accuracy: 0.5357\n",
      "Epoch 3/100\n",
      "40000/40000 [==============================] - 114s 3ms/step - loss: 1.0303 - accuracy: 0.6320 - val_loss: 1.0141 - val_accuracy: 0.6501\n",
      "Epoch 4/100\n",
      "40000/40000 [==============================] - 116s 3ms/step - loss: 0.9303 - accuracy: 0.6706 - val_loss: 0.9096 - val_accuracy: 0.6847\n",
      "Epoch 5/100\n",
      "40000/40000 [==============================] - 132s 3ms/step - loss: 0.8518 - accuracy: 0.6994 - val_loss: 0.9096 - val_accuracy: 0.6842\n",
      "Epoch 6/100\n",
      "40000/40000 [==============================] - 95s 2ms/step - loss: 0.8023 - accuracy: 0.7153 - val_loss: 0.8767 - val_accuracy: 0.6953\n",
      "Epoch 7/100\n",
      "40000/40000 [==============================] - 90s 2ms/step - loss: 0.7611 - accuracy: 0.7329 - val_loss: 0.8066 - val_accuracy: 0.7221\n",
      "Epoch 8/100\n",
      "40000/40000 [==============================] - 90s 2ms/step - loss: 0.7257 - accuracy: 0.7438 - val_loss: 0.7467 - val_accuracy: 0.7342\n",
      "Epoch 9/100\n",
      "40000/40000 [==============================] - 90s 2ms/step - loss: 0.6940 - accuracy: 0.7533 - val_loss: 0.7530 - val_accuracy: 0.7393\n",
      "Epoch 10/100\n",
      "40000/40000 [==============================] - 90s 2ms/step - loss: 0.6729 - accuracy: 0.7636 - val_loss: 0.7367 - val_accuracy: 0.7418\n",
      "Epoch 11/100\n",
      "40000/40000 [==============================] - 94s 2ms/step - loss: 0.6453 - accuracy: 0.7737 - val_loss: 0.7555 - val_accuracy: 0.7413\n",
      "Epoch 12/100\n",
      "40000/40000 [==============================] - 96s 2ms/step - loss: 0.6231 - accuracy: 0.7785 - val_loss: 0.8108 - val_accuracy: 0.7275\n",
      "Epoch 13/100\n",
      "40000/40000 [==============================] - 110s 3ms/step - loss: 0.6139 - accuracy: 0.7847 - val_loss: 0.7353 - val_accuracy: 0.7496\n",
      "Epoch 14/100\n",
      "40000/40000 [==============================] - 93s 2ms/step - loss: 0.5997 - accuracy: 0.7893 - val_loss: 0.8334 - val_accuracy: 0.7263\n",
      "Epoch 15/100\n",
      "40000/40000 [==============================] - 96s 2ms/step - loss: 0.5876 - accuracy: 0.7926 - val_loss: 0.7727 - val_accuracy: 0.7436\n",
      "Epoch 16/100\n",
      "40000/40000 [==============================] - 92s 2ms/step - loss: 0.5651 - accuracy: 0.7995 - val_loss: 0.6615 - val_accuracy: 0.7720\n",
      "Epoch 17/100\n",
      "40000/40000 [==============================] - 81s 2ms/step - loss: 0.5593 - accuracy: 0.8024 - val_loss: 0.6886 - val_accuracy: 0.7667\n",
      "Epoch 18/100\n",
      "40000/40000 [==============================] - 85s 2ms/step - loss: 0.5402 - accuracy: 0.8096 - val_loss: 0.6534 - val_accuracy: 0.7790\n",
      "Epoch 19/100\n",
      "40000/40000 [==============================] - 98s 2ms/step - loss: 0.5302 - accuracy: 0.8115 - val_loss: 0.6713 - val_accuracy: 0.7708\n",
      "Epoch 20/100\n",
      "40000/40000 [==============================] - 91s 2ms/step - loss: 0.5221 - accuracy: 0.8163 - val_loss: 0.7178 - val_accuracy: 0.7616\n",
      "Epoch 21/100\n",
      "40000/40000 [==============================] - 90s 2ms/step - loss: 0.5074 - accuracy: 0.8196 - val_loss: 0.6599 - val_accuracy: 0.7784\n",
      "Epoch 22/100\n",
      "40000/40000 [==============================] - 93s 2ms/step - loss: 0.4958 - accuracy: 0.8252 - val_loss: 0.6767 - val_accuracy: 0.7741\n",
      "Epoch 23/100\n",
      "40000/40000 [==============================] - 88s 2ms/step - loss: 0.4946 - accuracy: 0.8238 - val_loss: 0.6632 - val_accuracy: 0.7760\n",
      "Epoch 24/100\n",
      "40000/40000 [==============================] - 90s 2ms/step - loss: 0.4805 - accuracy: 0.8291 - val_loss: 0.7235 - val_accuracy: 0.7597\n",
      "Epoch 25/100\n",
      "40000/40000 [==============================] - 87s 2ms/step - loss: 0.4805 - accuracy: 0.8295 - val_loss: 0.6808 - val_accuracy: 0.7742\n",
      "Epoch 26/100\n",
      "40000/40000 [==============================] - 94s 2ms/step - loss: 0.4703 - accuracy: 0.8336 - val_loss: 0.7057 - val_accuracy: 0.7708\n",
      "Epoch 27/100\n",
      "40000/40000 [==============================] - 93s 2ms/step - loss: 0.4546 - accuracy: 0.8401 - val_loss: 0.6892 - val_accuracy: 0.7765\n",
      "Epoch 28/100\n",
      "40000/40000 [==============================] - 91s 2ms/step - loss: 0.4496 - accuracy: 0.8393 - val_loss: 0.6927 - val_accuracy: 0.7742\n",
      "Epoch 29/100\n",
      "40000/40000 [==============================] - 92s 2ms/step - loss: 0.4456 - accuracy: 0.8421 - val_loss: 0.6444 - val_accuracy: 0.7873\n",
      "Epoch 30/100\n",
      "40000/40000 [==============================] - 107s 3ms/step - loss: 0.4416 - accuracy: 0.8441 - val_loss: 0.6453 - val_accuracy: 0.7929\n",
      "Epoch 31/100\n",
      "40000/40000 [==============================] - 92s 2ms/step - loss: 0.4388 - accuracy: 0.8455 - val_loss: 0.6673 - val_accuracy: 0.7781\n",
      "Epoch 32/100\n",
      "40000/40000 [==============================] - 93s 2ms/step - loss: 0.4308 - accuracy: 0.8476 - val_loss: 0.6973 - val_accuracy: 0.7773\n",
      "Epoch 33/100\n",
      "40000/40000 [==============================] - 92s 2ms/step - loss: 0.4263 - accuracy: 0.8491 - val_loss: 0.6347 - val_accuracy: 0.7915\n",
      "Epoch 34/100\n",
      "40000/40000 [==============================] - 89s 2ms/step - loss: 0.4165 - accuracy: 0.8513 - val_loss: 0.6502 - val_accuracy: 0.7867\n",
      "Epoch 35/100\n",
      "40000/40000 [==============================] - 91s 2ms/step - loss: 0.4081 - accuracy: 0.8543 - val_loss: 0.6711 - val_accuracy: 0.7897\n",
      "Epoch 36/100\n",
      "40000/40000 [==============================] - 90s 2ms/step - loss: 0.4088 - accuracy: 0.8533 - val_loss: 0.6628 - val_accuracy: 0.7891\n",
      "Epoch 37/100\n",
      "40000/40000 [==============================] - 91s 2ms/step - loss: 0.3986 - accuracy: 0.8587 - val_loss: 0.6897 - val_accuracy: 0.7820\n",
      "Epoch 38/100\n",
      "40000/40000 [==============================] - 101s 3ms/step - loss: 0.3927 - accuracy: 0.8584 - val_loss: 0.7495 - val_accuracy: 0.7711\n",
      "Epoch 39/100\n",
      "40000/40000 [==============================] - 94s 2ms/step - loss: 0.3970 - accuracy: 0.8573 - val_loss: 0.7451 - val_accuracy: 0.7772\n",
      "Epoch 40/100\n",
      "40000/40000 [==============================] - 104s 3ms/step - loss: 0.3902 - accuracy: 0.8599 - val_loss: 0.6842 - val_accuracy: 0.7837\n",
      "Epoch 41/100\n",
      "40000/40000 [==============================] - 94s 2ms/step - loss: 0.3852 - accuracy: 0.8616 - val_loss: 0.6894 - val_accuracy: 0.7867\n",
      "Epoch 42/100\n",
      "40000/40000 [==============================] - 92s 2ms/step - loss: 0.3794 - accuracy: 0.8641 - val_loss: 0.6933 - val_accuracy: 0.7856\n",
      "Epoch 43/100\n",
      "40000/40000 [==============================] - 92s 2ms/step - loss: 0.3752 - accuracy: 0.8655 - val_loss: 0.7056 - val_accuracy: 0.7819\n",
      "Epoch 44/100\n",
      "40000/40000 [==============================] - 91s 2ms/step - loss: 0.3695 - accuracy: 0.8687 - val_loss: 0.7461 - val_accuracy: 0.7741\n",
      "Epoch 45/100\n",
      "40000/40000 [==============================] - 91s 2ms/step - loss: 0.3705 - accuracy: 0.8683 - val_loss: 0.6689 - val_accuracy: 0.7936\n",
      "Epoch 46/100\n",
      "40000/40000 [==============================] - 129s 3ms/step - loss: 0.3643 - accuracy: 0.8711 - val_loss: 0.6755 - val_accuracy: 0.7926\n",
      "Epoch 47/100\n",
      "40000/40000 [==============================] - 107s 3ms/step - loss: 0.3578 - accuracy: 0.8723 - val_loss: 0.7219 - val_accuracy: 0.7798\n",
      "Epoch 48/100\n",
      "40000/40000 [==============================] - 109s 3ms/step - loss: 0.3532 - accuracy: 0.8753 - val_loss: 0.6868 - val_accuracy: 0.7901\n"
     ]
    },
    {
     "data": {
      "image/png": "[encoded data removed]",
      "text/plain": [
       "<Figure size 432x288 with 1 Axes>"
      ]
     },
     "metadata": {
      "needs_background": "light"
     },
     "output_type": "display_data"
    }
   ],
   "source": [
    "model = Sequential()\n",
    "model.add(Conv2D(32, \n",
    "                 kernel_size = 3, \n",
    "                 activation  = 'relu', \n",
    "                 padding     = 'same', \n",
    "                 input_shape = (img_dim,\n",
    "                                img_dim,\n",
    "                                3)))\n",
    "model.add(MaxPool2D(2))\n",
    "model.add(Dropout(0.25))\n",
    "model.add(Conv2D(32,\n",
    "                 kernel_size = 5, \n",
    "                 activation  = 'relu',\n",
    "                 padding     = 'same'))\n",
    "model.add(MaxPool2D(2))\n",
    "model.add(Dropout(0.25))\n",
    "model.add(Conv2D(64,\n",
    "                 kernel_size = 3))\n",
    "model.add(BatchNormalization())\n",
    "model.add(Activation('relu'))\n",
    "model.add(Conv2D(64, \n",
    "                 activation='relu',\n",
    "                 kernel_size = 3))\n",
    "model.add(MaxPool2D(2))\n",
    "model.add(Flatten())\n",
    "model.add(Dense  (64,  activation='relu'))\n",
    "model.add(Dense  (128))\n",
    "model.add(BatchNormalization())\n",
    "model.add(Activation('relu'))\n",
    "\n",
    "model.add(Dense  (64,  activation='relu'))\n",
    "model.add(Dense  (10,  activation='softmax'))\n",
    "\n",
    "early_stopping_monitor = EarlyStopping(patience = 15,\n",
    "                                       restore_best_weights = True)\n",
    "\n",
    "model.compile(optimizer = 'adam', \n",
    "              loss      = 'categorical_crossentropy', \n",
    "              metrics   = ['accuracy'])\n",
    "\n",
    "training = model.fit(train_data, \n",
    "                     train_labels, \n",
    "                     validation_split = 0.2, \n",
    "                     epochs = 100, \n",
    "                     batch_size = 125,\n",
    "                     callbacks = [early_stopping_monitor])\n",
    "\n",
    "#model.save('model_saved9.h5')\n",
    "\n",
    "plt.plot(training.history['loss'])\n",
    "plt.plot(training.history['val_loss'])\n",
    "plt.show()"
   ]
  },
  {
   "cell_type": "code",
   "execution_count": 21,
   "metadata": {},
   "outputs": [],
   "source": [
    "from keras.models    import load_model\n",
    "my_model = load_model('model_saved9.h5')\n",
    "#training.history.keys() can only be loaded after training variable is saved"
   ]
  },
  {
   "cell_type": "markdown",
   "metadata": {},
   "source": [
    "## Visualize Model Components"
   ]
  },
  {
   "cell_type": "markdown",
   "metadata": {},
   "source": [
    "#### Code that produced figures in the project presentation included below"
   ]
  },
  {
   "cell_type": "code",
   "execution_count": 23,
   "metadata": {},
   "outputs": [],
   "source": [
    "# can only be running after training when training info is saved\n",
    "fig, axs = plt.subplots(1, 2, figsize=(8, 4))\n",
    "axs[0].plot(training.history['loss'])\n",
    "axs[0].plot(training.history['val_loss'])\n",
    "axs[0].set_title('Loss', color='white')\n",
    "axs[1].plot(training.history['accuracy'])\n",
    "axs[1].plot(training.history['val_accuracy'])\n",
    "axs[1].set_title('Accuracy', color='white')\n",
    "axs[0].tick_params(axis   = 'both', \n",
    "                   colors = 'black') \n",
    "axs[1].tick_params(axis   = 'both', \n",
    "                   colors = 'black') \n",
    "fig.subplots_adjust(top = 0.8, bottom = 0.1, hspace = 0.5, wspace = 0.5)\n",
    "plt.show()\n",
    "#fig.savefig('loss&accuracyModel9.png')\n"
   ]
  },
  {
   "cell_type": "markdown",
   "metadata": {},
   "source": [
    "#### Get shape of kernel and visualize"
   ]
  },
  {
   "cell_type": "code",
   "execution_count": 24,
   "metadata": {},
   "outputs": [
    {
     "data": {
      "text/plain": [
       "(3, 3, 3, 32)"
      ]
     },
     "execution_count": 24,
     "metadata": {},
     "output_type": "execute_result"
    }
   ],
   "source": [
    "conv1 = my_model.layers[0]\n",
    "weights1 = conv1.get_weights()\n",
    "kernels1 = weights1[0]\n",
    "kernels1.shape"
   ]
  },
  {
   "cell_type": "code",
   "execution_count": 25,
   "metadata": {},
   "outputs": [
    {
     "data": {
      "text/plain": [
       "(-0.5, 2.5, 2.5, -0.5)"
      ]
     },
     "execution_count": 25,
     "metadata": {},
     "output_type": "execute_result"
    },
    {
     "data": {
      "image/png": "[encoded data removed]",
      "text/plain": [
       "<Figure size 432x288 with 1 Axes>"
      ]
     },
     "metadata": {
      "needs_background": "light"
     },
     "output_type": "display_data"
    }
   ],
   "source": [
    "kernels1_1 = kernels1[:,:,:,0]\n",
    "kernels1_1\n",
    "kernels1_1avg = np.mean(kernels1_1, axis=0)\n",
    "\n",
    "plt.imshow(kernels1_1avg);\n",
    "plt.axis('off')"
   ]
  },
  {
   "cell_type": "markdown",
   "metadata": {},
   "source": [
    "#### Define a function that performs a convolution with a kernel"
   ]
  },
  {
   "cell_type": "code",
   "execution_count": 27,
   "metadata": {},
   "outputs": [],
   "source": [
    "def convolution(kernel, image):\n",
    "    img_dim     = image.shape[0]\n",
    "    channels    = image.shape[2]\n",
    "    kernel_size = kernel.shape[0]\n",
    "    output_size = img_dim-(kernel_size-1)\n",
    "    conv        = np.zeros((output_size,output_size))\n",
    "    \n",
    "    for ii in range(output_size):\n",
    "        for jj in range(output_size):\n",
    "            window = image[ii:ii+kernel_size, jj:jj+kernel_size]\n",
    "            conv[ii,jj] = np.sum(window*kernel)\n",
    "            \n",
    "    return conv"
   ]
  },
  {
   "cell_type": "markdown",
   "metadata": {},
   "source": [
    "#### Use the convolution function on random images to see its output"
   ]
  },
  {
   "cell_type": "code",
   "execution_count": 29,
   "metadata": {},
   "outputs": [
    {
     "name": "stderr",
     "output_type": "stream",
     "text": [
      "Clipping input data to the valid range for imshow with RGB data ([0..1] for floats or [0..255] for integers).\n"
     ]
    },
    {
     "data": {
      "image/png": "[encoded data removed]",
      "text/plain": [
       "<Figure size 576x576 with 2 Axes>"
      ]
     },
     "metadata": {
      "needs_background": "light"
     },
     "output_type": "display_data"
    }
   ],
   "source": [
    "image = train_data[25,:,:,:]\n",
    "conv = convolution(kernels1_1, image)\n",
    "\n",
    "fig, axs = plt.subplots(1, 2, figsize=(8, 8))\n",
    "axs[0].set_title('Original Image', color='black')\n",
    "axs[0].imshow(image);\n",
    "axs[0].axis('off')\n",
    "\n",
    "axs[1].set_title('Convolution Output', color='black')\n",
    "axs[1].imshow(conv);\n",
    "axs[1].axis('off')\n",
    "\n",
    "axs[0].tick_params(axis   = 'both', \n",
    "                   colors = 'black') \n",
    "axs[1].tick_params(axis   = 'both', \n",
    "                   colors = 'black') \n",
    "plt.show()"
   ]
  },
  {
   "cell_type": "markdown",
   "metadata": {},
   "source": [
    "#### Compare the output of 2 kernels on 2 images"
   ]
  },
  {
   "cell_type": "code",
   "execution_count": 31,
   "metadata": {},
   "outputs": [
    {
     "data": {
      "image/png": "[encoded data removed]",
      "text/plain": [
       "<Figure size 576x576 with 6 Axes>"
      ]
     },
     "metadata": {
      "needs_background": "light"
     },
     "output_type": "display_data"
    }
   ],
   "source": [
    "# Visualize the kernels in RGB\n",
    "\n",
    "conv1    = my_model.layers[0]\n",
    "weights1 = conv1.get_weights()\n",
    "kernels1 = weights1[0] # shape of 32 kernels (3, 3, 3, 32)\n",
    "\n",
    "kernels1_1 = kernels1[:,:,:,16]\n",
    "kernels1_1avg = np.mean(kernels1_1, axis=0)\n",
    "\n",
    "kernels1_2 = kernels1[:,:,:,17]\n",
    "kernels1_2avg = np.mean(kernels1_2, axis=0)\n",
    "\n",
    "fig, axs = plt.subplots(2, 3, figsize=(8, 8))\n",
    "axs[0,0].imshow(kernels1_1[:,:,0], cmap=plt.cm.get_cmap('Reds', 6));\n",
    "axs[0,0].axis('off');\n",
    "axs[0,1].set_title('Kernel 1: edges?', color='black')\n",
    "axs[0,1].imshow(kernels1_1[:,:,1], cmap=plt.cm.get_cmap('Greens', 6));\n",
    "axs[0,1].axis('off');\n",
    "axs[0,2].imshow(kernels1_1[:,:,2], cmap=plt.cm.get_cmap('Blues', 6));\n",
    "axs[0,2].axis('off');\n",
    "\n",
    "axs[1,0].imshow(kernels1_2[:,:,0], cmap=plt.cm.get_cmap('Reds', 6));\n",
    "axs[1,0].axis('off');\n",
    "axs[1,1].set_title('Kernel 2: horizontal?', color='black')\n",
    "axs[1,1].imshow(kernels1_2[:,:,1], cmap=plt.cm.get_cmap('Greens', 6));\n",
    "axs[1,1].axis('off');\n",
    "axs[1,2].imshow(kernels1_2[:,:,2], cmap=plt.cm.get_cmap('Blues', 6));\n",
    "axs[1,2].axis('off');\n",
    "\n",
    "fig.subplots_adjust(top = 0.7, bottom = 0.1, hspace = 0.1, wspace = 0.1)"
   ]
  },
  {
   "cell_type": "code",
   "execution_count": 32,
   "metadata": {},
   "outputs": [
    {
     "name": "stderr",
     "output_type": "stream",
     "text": [
      "Clipping input data to the valid range for imshow with RGB data ([0..1] for floats or [0..255] for integers).\n",
      "Clipping input data to the valid range for imshow with RGB data ([0..1] for floats or [0..255] for integers).\n",
      "Clipping input data to the valid range for imshow with RGB data ([0..1] for floats or [0..255] for integers).\n",
      "Clipping input data to the valid range for imshow with RGB data ([0..1] for floats or [0..255] for integers).\n"
     ]
    },
    {
     "data": {
      "image/png": "[encoded data removed]",
      "text/plain": [
       "<Figure size 1008x1008 with 8 Axes>"
      ]
     },
     "metadata": {
      "needs_background": "light"
     },
     "output_type": "display_data"
    }
   ],
   "source": [
    "# Visualize the output of the kernels after convolving on 2 images\n",
    "\n",
    "image1 = train_data[1,:,:,:]\n",
    "image2 = train_data[50,:,:,:]\n",
    "conv1 = convolution(kernels1_1, image1)\n",
    "conv2 = convolution(kernels1_1, image2)\n",
    "conv3 = convolution(kernels1_2, image1)\n",
    "conv4 = convolution(kernels1_2, image2)\n",
    "\n",
    "fig, axs = plt.subplots(2, 4, figsize=(14, 14))\n",
    "axs[0,0].set_title('Original Image', color='black')\n",
    "axs[0,0].imshow(image1);\n",
    "axs[0,0].axis('off');\n",
    "\n",
    "axs[0,1].set_title('Convolution Output', color='black')\n",
    "axs[0,1].imshow(conv1);\n",
    "axs[0,1].axis('off');\n",
    "\n",
    "axs[0,2].set_title('Original Image', color='black')\n",
    "axs[0,2].imshow(image2);\n",
    "axs[0,2].axis('off');\n",
    "\n",
    "axs[0,3].set_title('Convolution Output', color='black')\n",
    "axs[0,3].imshow(conv2);\n",
    "axs[0,3].axis('off');\n",
    "\n",
    "axs[1,0].set_title('Original Image', color='black')\n",
    "axs[1,0].imshow(image1);\n",
    "axs[1,0].axis('off');\n",
    "\n",
    "axs[1,1].set_title('Convolution Output', color='black')\n",
    "axs[1,1].imshow(conv3);\n",
    "axs[1,1].axis('off');\n",
    "\n",
    "axs[1,2].set_title('Original Image', color='black')\n",
    "axs[1,2].imshow(image2);\n",
    "axs[1,2].axis('off');\n",
    "\n",
    "axs[1,3].set_title('Convolution Output', color='black')\n",
    "axs[1,3].imshow(conv4);\n",
    "axs[1,3].axis('off');\n",
    "\n",
    "fig.subplots_adjust(top = 0.5, bottom = 0.1, hspace = 0.1, wspace = 0.1)\n",
    "plt.show()\n",
    "#fig.savefig('conv_output.png')"
   ]
  },
  {
   "cell_type": "code",
   "execution_count": 35,
   "metadata": {},
   "outputs": [
    {
     "name": "stdout",
     "output_type": "stream",
     "text": [
      "Model: \"sequential_1\"\n",
      "_________________________________________________________________\n",
      "Layer (type)                 Output Shape              Param #   \n",
      "=================================================================\n",
      "conv2d_1 (Conv2D)            (None, 32, 32, 32)        896       \n",
      "_________________________________________________________________\n",
      "max_pooling2d_1 (MaxPooling2 (None, 16, 16, 32)        0         \n",
      "_________________________________________________________________\n",
      "dropout_1 (Dropout)          (None, 16, 16, 32)        0         \n",
      "_________________________________________________________________\n",
      "conv2d_2 (Conv2D)            (None, 16, 16, 32)        25632     \n",
      "_________________________________________________________________\n",
      "max_pooling2d_2 (MaxPooling2 (None, 8, 8, 32)          0         \n",
      "_________________________________________________________________\n",
      "dropout_2 (Dropout)          (None, 8, 8, 32)          0         \n",
      "_________________________________________________________________\n",
      "conv2d_3 (Conv2D)            (None, 6, 6, 64)          18496     \n",
      "_________________________________________________________________\n",
      "batch_normalization_1 (Batch (None, 6, 6, 64)          256       \n",
      "_________________________________________________________________\n",
      "activation_1 (Activation)    (None, 6, 6, 64)          0         \n",
      "_________________________________________________________________\n",
      "conv2d_4 (Conv2D)            (None, 4, 4, 64)          36928     \n",
      "_________________________________________________________________\n",
      "max_pooling2d_3 (MaxPooling2 (None, 2, 2, 64)          0         \n",
      "_________________________________________________________________\n",
      "flatten_1 (Flatten)          (None, 256)               0         \n",
      "_________________________________________________________________\n",
      "dense_1 (Dense)              (None, 64)                16448     \n",
      "_________________________________________________________________\n",
      "dense_2 (Dense)              (None, 128)               8320      \n",
      "_________________________________________________________________\n",
      "batch_normalization_2 (Batch (None, 128)               512       \n",
      "_________________________________________________________________\n",
      "activation_2 (Activation)    (None, 128)               0         \n",
      "_________________________________________________________________\n",
      "dense_3 (Dense)              (None, 64)                8256      \n",
      "_________________________________________________________________\n",
      "dense_4 (Dense)              (None, 10)                650       \n",
      "=================================================================\n",
      "Total params: 116,394\n",
      "Trainable params: 116,010\n",
      "Non-trainable params: 384\n",
      "_________________________________________________________________\n"
     ]
    }
   ],
   "source": [
    "# Get a summary of the model's architecture\n",
    "model.summary()"
   ]
  },
  {
   "cell_type": "markdown",
   "metadata": {},
   "source": [
    "### Evaluating the Model"
   ]
  },
  {
   "cell_type": "code",
   "execution_count": 34,
   "metadata": {},
   "outputs": [
    {
     "name": "stdout",
     "output_type": "stream",
     "text": [
      "10000/10000 [==============================] - 5s 458us/step\n",
      "Test loss: 0.6816482432186604\n",
      "Test accuracy: 0.7774999737739563\n"
     ]
    }
   ],
   "source": [
    "early_stopping_monitor = EarlyStopping(patience = 15)\n",
    "\n",
    "score = my_model.evaluate(test_data, \n",
    "                       test_labels,\n",
    "                       callbacks = [early_stopping_monitor], \n",
    "                       batch_size = 125)\n",
    "\n",
    "print('Test loss:', score[0])\n",
    "print('Test accuracy:', score[1])"
   ]
  },
  {
   "cell_type": "markdown",
   "metadata": {},
   "source": [
    "#### Hand calculate accuracy"
   ]
  },
  {
   "cell_type": "code",
   "execution_count": 35,
   "metadata": {},
   "outputs": [
    {
     "name": "stdout",
     "output_type": "stream",
     "text": [
      "Test accuracy: 0.7775\n"
     ]
    }
   ],
   "source": [
    "output              = my_model.predict_classes(test_data)\n",
    "predictions         = one_hot_encode(output)\n",
    "\n",
    "correct_predictions = (predictions * test_labels).sum()\n",
    "test_accuracy       = correct_predictions/len(predictions)\n",
    "\n",
    "print('Test accuracy:', test_accuracy)"
   ]
  },
  {
   "cell_type": "markdown",
   "metadata": {},
   "source": [
    "### Model performance per category"
   ]
  },
  {
   "cell_type": "code",
   "execution_count": 36,
   "metadata": {},
   "outputs": [
    {
     "data": {
      "image/png": "[encoded data removed]",
      "text/plain": [
       "<Figure size 432x288 with 1 Axes>"
      ]
     },
     "metadata": {
      "needs_background": "light"
     },
     "output_type": "display_data"
    }
   ],
   "source": [
    "pred_cat      = np.sum(predictions, \n",
    "                       axis=0)\n",
    "corr_pred_cat = np.sum(predictions * test_labels,\n",
    "                       axis=0)\n",
    "true_cat      = np.sum(test_labels, \n",
    "                       axis=0)\n",
    "prob_cat      = corr_pred_cat/true_cat\n",
    "\n",
    "x = ['airplane', 'automobile', 'bird', 'cat', 'deer', \n",
    "     'dog', 'frog', 'horse', 'ship', 'truck']\n",
    "\n",
    "fig = plt.figure()\n",
    "ax  = fig.add_subplot(111)\n",
    "ax.bar(x, prob_cat); \n",
    "ax.tick_params(axis='both', \n",
    "               colors='black') \n",
    "ax.tick_params(axis='x',\n",
    "               labelrotation=45)"
   ]
  },
  {
   "cell_type": "markdown",
   "metadata": {},
   "source": [
    "## Future Directions\n",
    "<font size=\"3.7\"> \n",
    "1. Explore the output of later convolutional layers\n",
    "    \n",
    "2. Investigate mistakes (confusions)\n",
    "   \n",
    "3. Compare mistakes with those of previous networks   \n",
    "</font>"
   ]
  }
 ],
 "metadata": {
  "kernelspec": {
   "display_name": "Python 3",
   "language": "python",
   "name": "python3"
  },
  "language_info": {
   "codemirror_mode": {
    "name": "ipython",
    "version": 3
   },
   "file_extension": ".py",
   "mimetype": "text/x-python",
   "name": "python",
   "nbconvert_exporter": "python",
   "pygments_lexer": "ipython3",
   "version": "3.7.6"
  }
 },
 "nbformat": 4,
 "nbformat_minor": 4
}
